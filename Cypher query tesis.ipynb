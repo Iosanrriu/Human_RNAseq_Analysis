{
    "cells": [
        {
            "cell_type": "markdown",
            "source": [
                "Queries tesis neo4j"
            ],
            "metadata": {}
        },
        {
            "cell_type": "code",
            "execution_count": null,
            "source": [
                "MATCH (ei:Experiment {Sample_id:'SRR11517734'})-[:EG]->(g:Gene)\r\n",
                "RETURN g as Genes_en_SRR11517734;"
            ],
            "outputs": [],
            "metadata": {}
        },
        {
            "cell_type": "code",
            "execution_count": null,
            "source": [
                "MATCH (e:Experiment {Sample_id:'SRR11517734'})-[:EG]->(g:Gene)\r\n",
                "RETURN e as Expe, g as Gene;\r\n",
                "#entrega todos los nodo con relacion [:EG] para con el nodo consultado\r\n",
                "# (no devuelve los tags, esas son [:Taged] relationships)"
            ],
            "outputs": [],
            "metadata": {}
        },
        {
            "cell_type": "code",
            "execution_count": 2,
            "source": [
                "MATCH (ei:Experiment {Sample_id:'SRR11517734'})-[:EG]->(g:Gene)<-[:EG]-(ef:Experiment {Sample_id:'SRR11517727'})\r\n",
                "RETURN ei, ef , g;\r\n",
                "#entrega todos los nodo con relacion [:EG] entre dos Experimentos.\r\n"
            ],
            "outputs": [
                {
                    "output_type": "error",
                    "ename": "SyntaxError",
                    "evalue": "invalid syntax (<ipython-input-2-5b4b247e442b>, line 1)",
                    "traceback": [
                        "\u001b[1;36m  File \u001b[1;32m\"<ipython-input-2-5b4b247e442b>\"\u001b[1;36m, line \u001b[1;32m1\u001b[0m\n\u001b[1;33m    MATCH (ei:Experiment {Sample_id:'SRR11517734'})-[:EG]->(g:Gene)<-[:EG]-(ef:Experiment {Sample_id:'SRR11517727'})\u001b[0m\n\u001b[1;37m             ^\u001b[0m\n\u001b[1;31mSyntaxError\u001b[0m\u001b[1;31m:\u001b[0m invalid syntax\n"
                    ]
                }
            ],
            "metadata": {}
        },
        {
            "cell_type": "code",
            "execution_count": null,
            "source": [],
            "outputs": [],
            "metadata": {}
        },
        {
            "cell_type": "code",
            "execution_count": null,
            "source": [
                "MATCH p = (e:Experiment)-[:EG]->(g:Gene)\r\n",
                "WHERE\r\n",
                "  e.Sample_id='SRR11517727'\r\n",
                "  AND none(x IN nodes(p) WHERE (\r\n",
                "    :Experiment{Sample_id:'SRR11517734'})-[:EG]->(g:Gene))\r\n",
                "RETURN g.name as Gene_Uniques\r\n",
                "#entrega todos los nodo con relacion [:EG] entre un experimento Experimento, pero no en otro."
            ],
            "outputs": [],
            "metadata": {}
        },
        {
            "cell_type": "code",
            "execution_count": null,
            "source": [
                "MATCH (ei:Experiment {Sample_id:'SRR11517734'})-[:EG]->(g:Gene)\r\n",
                "MATCH (e2:Experiment {Sample_id:'SRR11517727'})-[:EG]->(g2:Gene)\r\n",
                "RETURN g as Genes_en_SRR11517734, g2 as Genes_en_SRR11517727;\r\n",
                "#······nico del pasado no recomienda correr esta linea,"
            ],
            "outputs": [],
            "metadata": {}
        },
        {
            "cell_type": "code",
            "execution_count": null,
            "source": [
                "MATCH (excluded:Gene)\r\n",
                "WHERE excluded.name in $excludedGene\r\n",
                "MATCH (r:Experimen)\r\n",
                "WHERE NOT (r)-[:EG]->(excluded)\r\n",
                "RETURN r"
            ],
            "outputs": [],
            "metadata": {}
        },
        {
            "cell_type": "code",
            "execution_count": null,
            "source": [],
            "outputs": [],
            "metadata": {}
        },
        {
            "cell_type": "code",
            "execution_count": null,
            "source": [
                "match p=(ei:Experiment {Sample_id:'SRR11517727'})-[:EG]->(g:Gene)<-[:EG]-(ee:Experiment {Sample_id:'SRR11517735'}) return p"
            ],
            "outputs": [],
            "metadata": {}
        },
        {
            "cell_type": "code",
            "execution_count": null,
            "source": [
                "match p=(ei:Experiment {Sample_id:'SRR11517727'})-[:EG]->(g:Gene)<-[:EG]-(ee:Experiment {Sample_id:'SRR11517735'}) return p"
            ],
            "outputs": [],
            "metadata": {}
        },
        {
            "cell_type": "code",
            "execution_count": null,
            "source": [
                "Match (ei:Experiment {Sample_id:'SRR11517734'})-[:EG]->(g:Gene)<-[:EG]-(ef:Experiment {Sample_id:'SRR11517727'})-[:EG]->(g)"
            ],
            "outputs": [],
            "metadata": {}
        },
        {
            "cell_type": "code",
            "execution_count": null,
            "source": [
                "match p=(ei:Experiment {name:'GSM4462413'}) return p"
            ],
            "outputs": [],
            "metadata": {}
        },
        {
            "cell_type": "code",
            "execution_count": null,
            "source": [
                "match (ei:Experiment {name:'GSM4462413'})-[:EG]->(g:Gene)<-[:EG]-(i:Experiment {name:'GSM4462415'}) return g"
            ],
            "outputs": [],
            "metadata": {}
        },
        {
            "cell_type": "code",
            "execution_count": null,
            "source": [
                "match (e1:Experiment)-[:EG]->(g:Gene)\r\n",
                "where e1.name='GSM4462413' or e1.name='GSM4462415'\r\n",
                "return g;"
            ],
            "outputs": [],
            "metadata": {}
        },
        {
            "cell_type": "code",
            "execution_count": null,
            "source": [
                "match (:Experiment)-[:EG]->(g:Gene)\r\n",
                "where  a.name IN ['GSM4462413', 'GSM4462415']\r\n",
                "return g;"
            ],
            "outputs": [],
            "metadata": {}
        },
        {
            "cell_type": "code",
            "execution_count": null,
            "source": [
                "MATCH (e1:Experiment{name:'GSM4462413'})-[:EG]->(g:Gene)\r\n",
                "match (e2:Experiment{name:'GSM4462415'})\r\n",
                "WHERE  NOT (g)<-[:EG]-(e2)\r\n",
                "return g;"
            ],
            "outputs": [],
            "metadata": {}
        },
        {
            "cell_type": "code",
            "execution_count": null,
            "source": [
                "MATCH (e1:Experiment{name:'GSM4462413'})-[:EG]->(g:Gene)<-[:GDA]-(d:Desease)\r\n",
                "match (e2:Experiment{name:'GSM4462415'})\r\n",
                "WHERE  NOT (g)<-[:EG]-(e2)\r\n",
                "return g,d;"
            ],
            "outputs": [],
            "metadata": {}
        }
    ],
    "metadata": {
        "orig_nbformat": 4,
        "language_info": {
            "name": "python",
            "version": "3.9.1",
            "mimetype": "text/x-python",
            "codemirror_mode": {
                "name": "ipython",
                "version": 3
            },
            "pygments_lexer": "ipython3",
            "nbconvert_exporter": "python",
            "file_extension": ".py"
        },
        "kernelspec": {
            "name": "python3",
            "display_name": "Python 3.9.1 64-bit"
        },
        "interpreter": {
            "hash": "2c1d810cbdec53ec64946343f3c89d77305c51d6346f2ac7bc7d3a93293d3fd2"
        }
    },
    "nbformat": 4,
    "nbformat_minor": 2
}