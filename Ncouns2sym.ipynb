{
 "metadata": {
  "language_info": {
   "codemirror_mode": {
    "name": "ipython",
    "version": 3
   },
   "file_extension": ".py",
   "mimetype": "text/x-python",
   "name": "python",
   "nbconvert_exporter": "python",
   "pygments_lexer": "ipython3",
   "version": "3.9.1"
  },
  "orig_nbformat": 2,
  "kernelspec": {
   "name": "python391jvsc74a57bd02c1d810cbdec53ec64946343f3c89d77305c51d6346f2ac7bc7d3a93293d3fd2",
   "display_name": "Python 3.9.1 64-bit"
  },
  "metadata": {
   "interpreter": {
    "hash": "2c1d810cbdec53ec64946343f3c89d77305c51d6346f2ac7bc7d3a93293d3fd2"
   }
  }
 },
 "nbformat": 4,
 "nbformat_minor": 2,
 "cells": [
  {
   "cell_type": "code",
   "execution_count": 2,
   "metadata": {},
   "outputs": [],
   "source": [
    "import pandas as pd"
   ]
  },
  {
   "cell_type": "code",
   "execution_count": 7,
   "metadata": {},
   "outputs": [
    {
     "output_type": "execute_result",
     "data": {
      "text/plain": [
       "           target_id  healthy  Infected\n",
       "0  ENST00000632684.1      0.0       0.0\n",
       "1  ENST00000434970.2      0.0       0.0\n",
       "2  ENST00000448914.1      0.0       0.0\n",
       "3  ENST00000415118.1      0.0       0.0\n",
       "4  ENST00000631435.1      0.0       0.0"
      ],
      "text/html": "<div>\n<style scoped>\n    .dataframe tbody tr th:only-of-type {\n        vertical-align: middle;\n    }\n\n    .dataframe tbody tr th {\n        vertical-align: top;\n    }\n\n    .dataframe thead th {\n        text-align: right;\n    }\n</style>\n<table border=\"1\" class=\"dataframe\">\n  <thead>\n    <tr style=\"text-align: right;\">\n      <th></th>\n      <th>target_id</th>\n      <th>healthy</th>\n      <th>Infected</th>\n    </tr>\n  </thead>\n  <tbody>\n    <tr>\n      <th>0</th>\n      <td>ENST00000632684.1</td>\n      <td>0.0</td>\n      <td>0.0</td>\n    </tr>\n    <tr>\n      <th>1</th>\n      <td>ENST00000434970.2</td>\n      <td>0.0</td>\n      <td>0.0</td>\n    </tr>\n    <tr>\n      <th>2</th>\n      <td>ENST00000448914.1</td>\n      <td>0.0</td>\n      <td>0.0</td>\n    </tr>\n    <tr>\n      <th>3</th>\n      <td>ENST00000415118.1</td>\n      <td>0.0</td>\n      <td>0.0</td>\n    </tr>\n    <tr>\n      <th>4</th>\n      <td>ENST00000631435.1</td>\n      <td>0.0</td>\n      <td>0.0</td>\n    </tr>\n  </tbody>\n</table>\n</div>"
     },
     "metadata": {},
     "execution_count": 7
    }
   ],
   "source": [
    "Nc=pd.read_csv(\"CovidNcounts.csv\",index_col=None)\n",
    "\n",
    "Nc.head()"
   ]
  },
  {
   "cell_type": "code",
   "execution_count": 8,
   "metadata": {},
   "outputs": [
    {
     "output_type": "execute_result",
     "data": {
      "text/plain": [
       "  ensembl_transcript_id  ensembl_gene_id external_gene_name\n",
       "0       ENST00000387314  ENSG00000210049              MT-TF\n",
       "1       ENST00000389680  ENSG00000211459            MT-RNR1\n",
       "2       ENST00000387342  ENSG00000210077              MT-TV\n",
       "3       ENST00000387347  ENSG00000210082            MT-RNR2\n",
       "4       ENST00000386347  ENSG00000209082             MT-TL1"
      ],
      "text/html": "<div>\n<style scoped>\n    .dataframe tbody tr th:only-of-type {\n        vertical-align: middle;\n    }\n\n    .dataframe tbody tr th {\n        vertical-align: top;\n    }\n\n    .dataframe thead th {\n        text-align: right;\n    }\n</style>\n<table border=\"1\" class=\"dataframe\">\n  <thead>\n    <tr style=\"text-align: right;\">\n      <th></th>\n      <th>ensembl_transcript_id</th>\n      <th>ensembl_gene_id</th>\n      <th>external_gene_name</th>\n    </tr>\n  </thead>\n  <tbody>\n    <tr>\n      <th>0</th>\n      <td>ENST00000387314</td>\n      <td>ENSG00000210049</td>\n      <td>MT-TF</td>\n    </tr>\n    <tr>\n      <th>1</th>\n      <td>ENST00000389680</td>\n      <td>ENSG00000211459</td>\n      <td>MT-RNR1</td>\n    </tr>\n    <tr>\n      <th>2</th>\n      <td>ENST00000387342</td>\n      <td>ENSG00000210077</td>\n      <td>MT-TV</td>\n    </tr>\n    <tr>\n      <th>3</th>\n      <td>ENST00000387347</td>\n      <td>ENSG00000210082</td>\n      <td>MT-RNR2</td>\n    </tr>\n    <tr>\n      <th>4</th>\n      <td>ENST00000386347</td>\n      <td>ENSG00000209082</td>\n      <td>MT-TL1</td>\n    </tr>\n  </tbody>\n</table>\n</div>"
     },
     "metadata": {},
     "execution_count": 8
    }
   ],
   "source": [
    "sy=pd.read_csv(\"t2g2s 4-10-21.txt\",index_col=None,delimiter=\"\\t\")\n",
    "sy.head()"
   ]
  },
  {
   "cell_type": "code",
   "execution_count": 4,
   "metadata": {},
   "outputs": [
    {
     "output_type": "execute_result",
     "data": {
      "text/plain": [
       "              target_id external_gene_name\n",
       "0       ENST00000387314              MT-TF\n",
       "1       ENST00000389680            MT-RNR1\n",
       "2       ENST00000387342              MT-TV\n",
       "3       ENST00000387347            MT-RNR2\n",
       "4       ENST00000386347             MT-TL1\n",
       "...                 ...                ...\n",
       "256178  ENST00000355360              PGBD2\n",
       "256179  ENST00000329291              PGBD2\n",
       "256180  ENST00000462488              PGBD2\n",
       "256181  ENST00000363625         RNU6-1205P\n",
       "256182  ENST00000430973          RPL23AP25\n",
       "\n",
       "[256183 rows x 2 columns]"
      ],
      "text/html": "<div>\n<style scoped>\n    .dataframe tbody tr th:only-of-type {\n        vertical-align: middle;\n    }\n\n    .dataframe tbody tr th {\n        vertical-align: top;\n    }\n\n    .dataframe thead th {\n        text-align: right;\n    }\n</style>\n<table border=\"1\" class=\"dataframe\">\n  <thead>\n    <tr style=\"text-align: right;\">\n      <th></th>\n      <th>target_id</th>\n      <th>external_gene_name</th>\n    </tr>\n  </thead>\n  <tbody>\n    <tr>\n      <th>0</th>\n      <td>ENST00000387314</td>\n      <td>MT-TF</td>\n    </tr>\n    <tr>\n      <th>1</th>\n      <td>ENST00000389680</td>\n      <td>MT-RNR1</td>\n    </tr>\n    <tr>\n      <th>2</th>\n      <td>ENST00000387342</td>\n      <td>MT-TV</td>\n    </tr>\n    <tr>\n      <th>3</th>\n      <td>ENST00000387347</td>\n      <td>MT-RNR2</td>\n    </tr>\n    <tr>\n      <th>4</th>\n      <td>ENST00000386347</td>\n      <td>MT-TL1</td>\n    </tr>\n    <tr>\n      <th>...</th>\n      <td>...</td>\n      <td>...</td>\n    </tr>\n    <tr>\n      <th>256178</th>\n      <td>ENST00000355360</td>\n      <td>PGBD2</td>\n    </tr>\n    <tr>\n      <th>256179</th>\n      <td>ENST00000329291</td>\n      <td>PGBD2</td>\n    </tr>\n    <tr>\n      <th>256180</th>\n      <td>ENST00000462488</td>\n      <td>PGBD2</td>\n    </tr>\n    <tr>\n      <th>256181</th>\n      <td>ENST00000363625</td>\n      <td>RNU6-1205P</td>\n    </tr>\n    <tr>\n      <th>256182</th>\n      <td>ENST00000430973</td>\n      <td>RPL23AP25</td>\n    </tr>\n  </tbody>\n</table>\n<p>256183 rows × 2 columns</p>\n</div>"
     },
     "metadata": {},
     "execution_count": 4
    }
   ],
   "source": [
    "s_id=sy.rename(columns={'ensembl_transcript_id':'target_id'})\n",
    "#s_id.head()\n",
    "s=s_id[['target_id',\"external_gene_name\"]]\n",
    "s# es un dataframe"
   ]
  },
  {
   "cell_type": "code",
   "execution_count": 10,
   "metadata": {},
   "outputs": [],
   "source": [
    "#simbols.groupby(\"external_gene_name\").nunique()"
   ]
  },
  {
   "cell_type": "code",
   "execution_count": 9,
   "metadata": {},
   "outputs": [],
   "source": [
    "s=pd.DataFrame(sy)\n",
    "Nc=pd.DataFrame(Nc)"
   ]
  },
  {
   "cell_type": "code",
   "execution_count": 10,
   "metadata": {},
   "outputs": [
    {
     "output_type": "execute_result",
     "data": {
      "text/plain": [
       "  ensembl_transcript_id  ensembl_gene_id external_gene_name\n",
       "0       ENST00000387314  ENSG00000210049              MT-TF\n",
       "1       ENST00000389680  ENSG00000211459            MT-RNR1\n",
       "2       ENST00000387342  ENSG00000210077              MT-TV\n",
       "3       ENST00000387347  ENSG00000210082            MT-RNR2\n",
       "4       ENST00000386347  ENSG00000209082             MT-TL1"
      ],
      "text/html": "<div>\n<style scoped>\n    .dataframe tbody tr th:only-of-type {\n        vertical-align: middle;\n    }\n\n    .dataframe tbody tr th {\n        vertical-align: top;\n    }\n\n    .dataframe thead th {\n        text-align: right;\n    }\n</style>\n<table border=\"1\" class=\"dataframe\">\n  <thead>\n    <tr style=\"text-align: right;\">\n      <th></th>\n      <th>ensembl_transcript_id</th>\n      <th>ensembl_gene_id</th>\n      <th>external_gene_name</th>\n    </tr>\n  </thead>\n  <tbody>\n    <tr>\n      <th>0</th>\n      <td>ENST00000387314</td>\n      <td>ENSG00000210049</td>\n      <td>MT-TF</td>\n    </tr>\n    <tr>\n      <th>1</th>\n      <td>ENST00000389680</td>\n      <td>ENSG00000211459</td>\n      <td>MT-RNR1</td>\n    </tr>\n    <tr>\n      <th>2</th>\n      <td>ENST00000387342</td>\n      <td>ENSG00000210077</td>\n      <td>MT-TV</td>\n    </tr>\n    <tr>\n      <th>3</th>\n      <td>ENST00000387347</td>\n      <td>ENSG00000210082</td>\n      <td>MT-RNR2</td>\n    </tr>\n    <tr>\n      <th>4</th>\n      <td>ENST00000386347</td>\n      <td>ENSG00000209082</td>\n      <td>MT-TL1</td>\n    </tr>\n  </tbody>\n</table>\n</div>"
     },
     "metadata": {},
     "execution_count": 10
    }
   ],
   "source": [
    "s.head()"
   ]
  },
  {
   "cell_type": "code",
   "execution_count": 11,
   "metadata": {},
   "outputs": [
    {
     "output_type": "execute_result",
     "data": {
      "text/plain": [
       "           target_id  healthy  Infected\n",
       "0  ENST00000632684.1      0.0       0.0\n",
       "1  ENST00000434970.2      0.0       0.0\n",
       "2  ENST00000448914.1      0.0       0.0\n",
       "3  ENST00000415118.1      0.0       0.0\n",
       "4  ENST00000631435.1      0.0       0.0"
      ],
      "text/html": "<div>\n<style scoped>\n    .dataframe tbody tr th:only-of-type {\n        vertical-align: middle;\n    }\n\n    .dataframe tbody tr th {\n        vertical-align: top;\n    }\n\n    .dataframe thead th {\n        text-align: right;\n    }\n</style>\n<table border=\"1\" class=\"dataframe\">\n  <thead>\n    <tr style=\"text-align: right;\">\n      <th></th>\n      <th>target_id</th>\n      <th>healthy</th>\n      <th>Infected</th>\n    </tr>\n  </thead>\n  <tbody>\n    <tr>\n      <th>0</th>\n      <td>ENST00000632684.1</td>\n      <td>0.0</td>\n      <td>0.0</td>\n    </tr>\n    <tr>\n      <th>1</th>\n      <td>ENST00000434970.2</td>\n      <td>0.0</td>\n      <td>0.0</td>\n    </tr>\n    <tr>\n      <th>2</th>\n      <td>ENST00000448914.1</td>\n      <td>0.0</td>\n      <td>0.0</td>\n    </tr>\n    <tr>\n      <th>3</th>\n      <td>ENST00000415118.1</td>\n      <td>0.0</td>\n      <td>0.0</td>\n    </tr>\n    <tr>\n      <th>4</th>\n      <td>ENST00000631435.1</td>\n      <td>0.0</td>\n      <td>0.0</td>\n    </tr>\n  </tbody>\n</table>\n</div>"
     },
     "metadata": {},
     "execution_count": 11
    }
   ],
   "source": [
    "Nc.head()"
   ]
  },
  {
   "cell_type": "code",
   "execution_count": 29,
   "metadata": {},
   "outputs": [],
   "source": [
    "ENST2SY=[]"
   ]
  },
  {
   "cell_type": "code",
   "execution_count": 13,
   "metadata": {},
   "outputs": [],
   "source": [
    "Nc_0=Nc[(Nc[\"healthy\"]>0) | (Nc[\"Infected\"]>0)]"
   ]
  },
  {
   "cell_type": "code",
   "execution_count": 30,
   "metadata": {},
   "outputs": [],
   "source": [
    "lista=list(s[\"ensembl_transcript_id\"])\n",
    "for i in range(0,len(Nc_0[\"target_id\"])):\n",
    "    enst=Nc_0.iloc[i][\"target_id\"][0:15]\n",
    "    if enst in lista:\n",
    "        l=lista.index(enst)\n",
    "    #print(l)\n",
    "        r=s.iloc[l][\"external_gene_name\"]\n",
    "        ENST2SY.append(r)\n",
    "    #print(r)\n",
    "    else:\n",
    "        ENST2SY.append(\"NaN\")\n",
    "    #se demora como unos 7-8 min"
   ]
  },
  {
   "cell_type": "code",
   "execution_count": 31,
   "metadata": {},
   "outputs": [
    {
     "output_type": "execute_result",
     "data": {
      "text/plain": [
       "['TRBV23-1',\n",
       " 'TRBV12-5',\n",
       " 'TRAV41',\n",
       " 'TRAV2',\n",
       " 'TRAV36DV7',\n",
       " 'TRAV14DV4',\n",
       " 'TRAV13-1',\n",
       " 'TRAV8-3',\n",
       " 'TRBV30',\n",
       " 'TRBV20-1']"
      ]
     },
     "metadata": {},
     "execution_count": 31
    }
   ],
   "source": [
    "ENST2SY[0:10]"
   ]
  },
  {
   "cell_type": "code",
   "execution_count": 32,
   "metadata": {},
   "outputs": [
    {
     "output_type": "execute_result",
     "data": {
      "text/plain": [
       "            target_id   healthy  Infected\n",
       "69  ENST00000390396.1  0.143410       0.0\n",
       "71  ENST00000621184.1  0.332705       0.0\n",
       "74  ENST00000390468.1  0.286819       0.0\n",
       "75  ENST00000390424.2  0.188333       0.0\n",
       "76  ENST00000390463.3  0.196011       0.0"
      ],
      "text/html": "<div>\n<style scoped>\n    .dataframe tbody tr th:only-of-type {\n        vertical-align: middle;\n    }\n\n    .dataframe tbody tr th {\n        vertical-align: top;\n    }\n\n    .dataframe thead th {\n        text-align: right;\n    }\n</style>\n<table border=\"1\" class=\"dataframe\">\n  <thead>\n    <tr style=\"text-align: right;\">\n      <th></th>\n      <th>target_id</th>\n      <th>healthy</th>\n      <th>Infected</th>\n    </tr>\n  </thead>\n  <tbody>\n    <tr>\n      <th>69</th>\n      <td>ENST00000390396.1</td>\n      <td>0.143410</td>\n      <td>0.0</td>\n    </tr>\n    <tr>\n      <th>71</th>\n      <td>ENST00000621184.1</td>\n      <td>0.332705</td>\n      <td>0.0</td>\n    </tr>\n    <tr>\n      <th>74</th>\n      <td>ENST00000390468.1</td>\n      <td>0.286819</td>\n      <td>0.0</td>\n    </tr>\n    <tr>\n      <th>75</th>\n      <td>ENST00000390424.2</td>\n      <td>0.188333</td>\n      <td>0.0</td>\n    </tr>\n    <tr>\n      <th>76</th>\n      <td>ENST00000390463.3</td>\n      <td>0.196011</td>\n      <td>0.0</td>\n    </tr>\n  </tbody>\n</table>\n</div>"
     },
     "metadata": {},
     "execution_count": 32
    }
   ],
   "source": [
    "Nc_0.head()"
   ]
  },
  {
   "cell_type": "code",
   "execution_count": 33,
   "metadata": {},
   "outputs": [
    {
     "output_type": "execute_result",
     "data": {
      "text/plain": [
       "93884"
      ]
     },
     "metadata": {},
     "execution_count": 33
    }
   ],
   "source": [
    "ENST2SY.count(\"NaN\")\n",
    "len(ENST2SY)"
   ]
  },
  {
   "cell_type": "code",
   "execution_count": 34,
   "metadata": {},
   "outputs": [
    {
     "output_type": "stream",
     "name": "stderr",
     "text": [
      "<ipython-input-34-19cb5172c705>:1: SettingWithCopyWarning: \nA value is trying to be set on a copy of a slice from a DataFrame.\nTry using .loc[row_indexer,col_indexer] = value instead\n\nSee the caveats in the documentation: https://pandas.pydata.org/pandas-docs/stable/user_guide/indexing.html#returning-a-view-versus-a-copy\n  Nc_0[\"Syb\"]=ENST2SY\n"
     ]
    }
   ],
   "source": [
    "Nc_0[\"Syb\"]=ENST2SY"
   ]
  },
  {
   "cell_type": "code",
   "execution_count": 35,
   "metadata": {},
   "outputs": [
    {
     "output_type": "execute_result",
     "data": {
      "text/plain": [
       "            target_id   healthy  Infected        Syb\n",
       "69  ENST00000390396.1  0.143410       0.0   TRBV23-1\n",
       "71  ENST00000621184.1  0.332705       0.0   TRBV12-5\n",
       "74  ENST00000390468.1  0.286819       0.0     TRAV41\n",
       "75  ENST00000390424.2  0.188333       0.0      TRAV2\n",
       "76  ENST00000390463.3  0.196011       0.0  TRAV36DV7"
      ],
      "text/html": "<div>\n<style scoped>\n    .dataframe tbody tr th:only-of-type {\n        vertical-align: middle;\n    }\n\n    .dataframe tbody tr th {\n        vertical-align: top;\n    }\n\n    .dataframe thead th {\n        text-align: right;\n    }\n</style>\n<table border=\"1\" class=\"dataframe\">\n  <thead>\n    <tr style=\"text-align: right;\">\n      <th></th>\n      <th>target_id</th>\n      <th>healthy</th>\n      <th>Infected</th>\n      <th>Syb</th>\n    </tr>\n  </thead>\n  <tbody>\n    <tr>\n      <th>69</th>\n      <td>ENST00000390396.1</td>\n      <td>0.143410</td>\n      <td>0.0</td>\n      <td>TRBV23-1</td>\n    </tr>\n    <tr>\n      <th>71</th>\n      <td>ENST00000621184.1</td>\n      <td>0.332705</td>\n      <td>0.0</td>\n      <td>TRBV12-5</td>\n    </tr>\n    <tr>\n      <th>74</th>\n      <td>ENST00000390468.1</td>\n      <td>0.286819</td>\n      <td>0.0</td>\n      <td>TRAV41</td>\n    </tr>\n    <tr>\n      <th>75</th>\n      <td>ENST00000390424.2</td>\n      <td>0.188333</td>\n      <td>0.0</td>\n      <td>TRAV2</td>\n    </tr>\n    <tr>\n      <th>76</th>\n      <td>ENST00000390463.3</td>\n      <td>0.196011</td>\n      <td>0.0</td>\n      <td>TRAV36DV7</td>\n    </tr>\n  </tbody>\n</table>\n</div>"
     },
     "metadata": {},
     "execution_count": 35
    }
   ],
   "source": [
    "Nc_0.head()"
   ]
  },
  {
   "cell_type": "code",
   "execution_count": 36,
   "metadata": {},
   "outputs": [],
   "source": [
    "Nc_0.to_csv(\"Ncounts2Syb.csv\",index=False)"
   ]
  },
  {
   "cell_type": "code",
   "execution_count": 40,
   "metadata": {},
   "outputs": [
    {
     "output_type": "execute_result",
     "data": {
      "text/plain": [
       "                target_id    healthy  Infected  Syb\n",
       "359     ENST00000620890.1  39.956270  9.501554  NaN\n",
       "1588    ENST00000389562.6   1.262435  0.000000  NaN\n",
       "2152    ENST00000262888.8   2.166708  0.000000  NaN\n",
       "3358    ENST00000405995.5  13.312860  0.000000  NaN\n",
       "3359    ENST00000489593.1   0.986772  0.000000  NaN\n",
       "...                   ...        ...       ...  ...\n",
       "184213  ENST00000638574.1   1.088922  0.000000  NaN\n",
       "185987  ENST00000442354.1   0.105203  0.000000  NaN\n",
       "186576  ENST00000613254.1   0.135731  0.000000  NaN\n",
       "186581  ENST00000613335.1   0.052601  0.000000  NaN\n",
       "186683  ENST00000412399.1   0.045885  0.000000  NaN\n",
       "\n",
       "[908 rows x 4 columns]"
      ],
      "text/html": "<div>\n<style scoped>\n    .dataframe tbody tr th:only-of-type {\n        vertical-align: middle;\n    }\n\n    .dataframe tbody tr th {\n        vertical-align: top;\n    }\n\n    .dataframe thead th {\n        text-align: right;\n    }\n</style>\n<table border=\"1\" class=\"dataframe\">\n  <thead>\n    <tr style=\"text-align: right;\">\n      <th></th>\n      <th>target_id</th>\n      <th>healthy</th>\n      <th>Infected</th>\n      <th>Syb</th>\n    </tr>\n  </thead>\n  <tbody>\n    <tr>\n      <th>359</th>\n      <td>ENST00000620890.1</td>\n      <td>39.956270</td>\n      <td>9.501554</td>\n      <td>NaN</td>\n    </tr>\n    <tr>\n      <th>1588</th>\n      <td>ENST00000389562.6</td>\n      <td>1.262435</td>\n      <td>0.000000</td>\n      <td>NaN</td>\n    </tr>\n    <tr>\n      <th>2152</th>\n      <td>ENST00000262888.8</td>\n      <td>2.166708</td>\n      <td>0.000000</td>\n      <td>NaN</td>\n    </tr>\n    <tr>\n      <th>3358</th>\n      <td>ENST00000405995.5</td>\n      <td>13.312860</td>\n      <td>0.000000</td>\n      <td>NaN</td>\n    </tr>\n    <tr>\n      <th>3359</th>\n      <td>ENST00000489593.1</td>\n      <td>0.986772</td>\n      <td>0.000000</td>\n      <td>NaN</td>\n    </tr>\n    <tr>\n      <th>...</th>\n      <td>...</td>\n      <td>...</td>\n      <td>...</td>\n      <td>...</td>\n    </tr>\n    <tr>\n      <th>184213</th>\n      <td>ENST00000638574.1</td>\n      <td>1.088922</td>\n      <td>0.000000</td>\n      <td>NaN</td>\n    </tr>\n    <tr>\n      <th>185987</th>\n      <td>ENST00000442354.1</td>\n      <td>0.105203</td>\n      <td>0.000000</td>\n      <td>NaN</td>\n    </tr>\n    <tr>\n      <th>186576</th>\n      <td>ENST00000613254.1</td>\n      <td>0.135731</td>\n      <td>0.000000</td>\n      <td>NaN</td>\n    </tr>\n    <tr>\n      <th>186581</th>\n      <td>ENST00000613335.1</td>\n      <td>0.052601</td>\n      <td>0.000000</td>\n      <td>NaN</td>\n    </tr>\n    <tr>\n      <th>186683</th>\n      <td>ENST00000412399.1</td>\n      <td>0.045885</td>\n      <td>0.000000</td>\n      <td>NaN</td>\n    </tr>\n  </tbody>\n</table>\n<p>908 rows × 4 columns</p>\n</div>"
     },
     "metadata": {},
     "execution_count": 40
    }
   ],
   "source": [
    "Nc_0[Nc_0[\"Syb\"]==\"NaN\"]"
   ]
  },
  {
   "cell_type": "code",
   "execution_count": 37,
   "metadata": {},
   "outputs": [],
   "source": [
    "D=pd.read_csv(\"Ncounts2Syb.csv\",index_col=None)"
   ]
  },
  {
   "cell_type": "code",
   "execution_count": 38,
   "metadata": {},
   "outputs": [
    {
     "output_type": "execute_result",
     "data": {
      "text/plain": [
       "           target_id   healthy  Infected        Syb\n",
       "0  ENST00000390396.1  0.143410       0.0   TRBV23-1\n",
       "1  ENST00000621184.1  0.332705       0.0   TRBV12-5\n",
       "2  ENST00000390468.1  0.286819       0.0     TRAV41\n",
       "3  ENST00000390424.2  0.188333       0.0      TRAV2\n",
       "4  ENST00000390463.3  0.196011       0.0  TRAV36DV7"
      ],
      "text/html": "<div>\n<style scoped>\n    .dataframe tbody tr th:only-of-type {\n        vertical-align: middle;\n    }\n\n    .dataframe tbody tr th {\n        vertical-align: top;\n    }\n\n    .dataframe thead th {\n        text-align: right;\n    }\n</style>\n<table border=\"1\" class=\"dataframe\">\n  <thead>\n    <tr style=\"text-align: right;\">\n      <th></th>\n      <th>target_id</th>\n      <th>healthy</th>\n      <th>Infected</th>\n      <th>Syb</th>\n    </tr>\n  </thead>\n  <tbody>\n    <tr>\n      <th>0</th>\n      <td>ENST00000390396.1</td>\n      <td>0.143410</td>\n      <td>0.0</td>\n      <td>TRBV23-1</td>\n    </tr>\n    <tr>\n      <th>1</th>\n      <td>ENST00000621184.1</td>\n      <td>0.332705</td>\n      <td>0.0</td>\n      <td>TRBV12-5</td>\n    </tr>\n    <tr>\n      <th>2</th>\n      <td>ENST00000390468.1</td>\n      <td>0.286819</td>\n      <td>0.0</td>\n      <td>TRAV41</td>\n    </tr>\n    <tr>\n      <th>3</th>\n      <td>ENST00000390424.2</td>\n      <td>0.188333</td>\n      <td>0.0</td>\n      <td>TRAV2</td>\n    </tr>\n    <tr>\n      <th>4</th>\n      <td>ENST00000390463.3</td>\n      <td>0.196011</td>\n      <td>0.0</td>\n      <td>TRAV36DV7</td>\n    </tr>\n  </tbody>\n</table>\n</div>"
     },
     "metadata": {},
     "execution_count": 38
    }
   ],
   "source": [
    "D.head()"
   ]
  },
  {
   "cell_type": "code",
   "execution_count": 41,
   "metadata": {},
   "outputs": [],
   "source": [
    "NaN=D[D[\"Syb\"]==\"NaN\"]"
   ]
  },
  {
   "cell_type": "code",
   "execution_count": 44,
   "metadata": {},
   "outputs": [
    {
     "output_type": "execute_result",
     "data": {
      "text/plain": [
       "           target_id   healthy  Infected        Syb\n",
       "0  ENST00000390396.1  0.143410       0.0   TRBV23-1\n",
       "1  ENST00000621184.1  0.332705       0.0   TRBV12-5\n",
       "2  ENST00000390468.1  0.286819       0.0     TRAV41\n",
       "3  ENST00000390424.2  0.188333       0.0      TRAV2\n",
       "4  ENST00000390463.3  0.196011       0.0  TRAV36DV7"
      ],
      "text/html": "<div>\n<style scoped>\n    .dataframe tbody tr th:only-of-type {\n        vertical-align: middle;\n    }\n\n    .dataframe tbody tr th {\n        vertical-align: top;\n    }\n\n    .dataframe thead th {\n        text-align: right;\n    }\n</style>\n<table border=\"1\" class=\"dataframe\">\n  <thead>\n    <tr style=\"text-align: right;\">\n      <th></th>\n      <th>target_id</th>\n      <th>healthy</th>\n      <th>Infected</th>\n      <th>Syb</th>\n    </tr>\n  </thead>\n  <tbody>\n    <tr>\n      <th>0</th>\n      <td>ENST00000390396.1</td>\n      <td>0.143410</td>\n      <td>0.0</td>\n      <td>TRBV23-1</td>\n    </tr>\n    <tr>\n      <th>1</th>\n      <td>ENST00000621184.1</td>\n      <td>0.332705</td>\n      <td>0.0</td>\n      <td>TRBV12-5</td>\n    </tr>\n    <tr>\n      <th>2</th>\n      <td>ENST00000390468.1</td>\n      <td>0.286819</td>\n      <td>0.0</td>\n      <td>TRAV41</td>\n    </tr>\n    <tr>\n      <th>3</th>\n      <td>ENST00000390424.2</td>\n      <td>0.188333</td>\n      <td>0.0</td>\n      <td>TRAV2</td>\n    </tr>\n    <tr>\n      <th>4</th>\n      <td>ENST00000390463.3</td>\n      <td>0.196011</td>\n      <td>0.0</td>\n      <td>TRAV36DV7</td>\n    </tr>\n  </tbody>\n</table>\n</div>"
     },
     "metadata": {},
     "execution_count": 44
    }
   ],
   "source": [
    "#D=D[D['Syb'].notna()]\n",
    "D.head()"
   ]
  },
  {
   "cell_type": "code",
   "execution_count": 51,
   "metadata": {},
   "outputs": [],
   "source": [
    "D=D[[\"healthy\",\"Infected\",\"Syb\"]]"
   ]
  },
  {
   "cell_type": "code",
   "execution_count": 53,
   "metadata": {},
   "outputs": [
    {
     "output_type": "execute_result",
     "data": {
      "text/plain": [
       "    healthy  Infected        Syb\n",
       "0  0.143410       0.0   TRBV23-1\n",
       "1  0.332705       0.0   TRBV12-5\n",
       "2  0.286819       0.0     TRAV41\n",
       "3  0.188333       0.0      TRAV2\n",
       "4  0.196011       0.0  TRAV36DV7"
      ],
      "text/html": "<div>\n<style scoped>\n    .dataframe tbody tr th:only-of-type {\n        vertical-align: middle;\n    }\n\n    .dataframe tbody tr th {\n        vertical-align: top;\n    }\n\n    .dataframe thead th {\n        text-align: right;\n    }\n</style>\n<table border=\"1\" class=\"dataframe\">\n  <thead>\n    <tr style=\"text-align: right;\">\n      <th></th>\n      <th>healthy</th>\n      <th>Infected</th>\n      <th>Syb</th>\n    </tr>\n  </thead>\n  <tbody>\n    <tr>\n      <th>0</th>\n      <td>0.143410</td>\n      <td>0.0</td>\n      <td>TRBV23-1</td>\n    </tr>\n    <tr>\n      <th>1</th>\n      <td>0.332705</td>\n      <td>0.0</td>\n      <td>TRBV12-5</td>\n    </tr>\n    <tr>\n      <th>2</th>\n      <td>0.286819</td>\n      <td>0.0</td>\n      <td>TRAV41</td>\n    </tr>\n    <tr>\n      <th>3</th>\n      <td>0.188333</td>\n      <td>0.0</td>\n      <td>TRAV2</td>\n    </tr>\n    <tr>\n      <th>4</th>\n      <td>0.196011</td>\n      <td>0.0</td>\n      <td>TRAV36DV7</td>\n    </tr>\n  </tbody>\n</table>\n</div>"
     },
     "metadata": {},
     "execution_count": 53
    }
   ],
   "source": [
    "D.head()"
   ]
  },
  {
   "cell_type": "code",
   "execution_count": 56,
   "metadata": {},
   "outputs": [],
   "source": [
    "res=D.groupby(\"Syb\").sum()"
   ]
  },
  {
   "cell_type": "code",
   "execution_count": 61,
   "metadata": {},
   "outputs": [
    {
     "output_type": "execute_result",
     "data": {
      "text/plain": [
       "            healthy    Infected\n",
       "Syb                            \n",
       "5S_rRNA    0.210406    0.000000\n",
       "A1BG       6.707452    0.000000\n",
       "A1CF       0.331742    0.000000\n",
       "A2M      549.352198  119.184148\n",
       "A2ML1      0.430229    0.000000"
      ],
      "text/html": "<div>\n<style scoped>\n    .dataframe tbody tr th:only-of-type {\n        vertical-align: middle;\n    }\n\n    .dataframe tbody tr th {\n        vertical-align: top;\n    }\n\n    .dataframe thead th {\n        text-align: right;\n    }\n</style>\n<table border=\"1\" class=\"dataframe\">\n  <thead>\n    <tr style=\"text-align: right;\">\n      <th></th>\n      <th>healthy</th>\n      <th>Infected</th>\n    </tr>\n    <tr>\n      <th>Syb</th>\n      <th></th>\n      <th></th>\n    </tr>\n  </thead>\n  <tbody>\n    <tr>\n      <th>5S_rRNA</th>\n      <td>0.210406</td>\n      <td>0.000000</td>\n    </tr>\n    <tr>\n      <th>A1BG</th>\n      <td>6.707452</td>\n      <td>0.000000</td>\n    </tr>\n    <tr>\n      <th>A1CF</th>\n      <td>0.331742</td>\n      <td>0.000000</td>\n    </tr>\n    <tr>\n      <th>A2M</th>\n      <td>549.352198</td>\n      <td>119.184148</td>\n    </tr>\n    <tr>\n      <th>A2ML1</th>\n      <td>0.430229</td>\n      <td>0.000000</td>\n    </tr>\n  </tbody>\n</table>\n</div>"
     },
     "metadata": {},
     "execution_count": 61
    }
   ],
   "source": [
    "res.head()"
   ]
  },
  {
   "cell_type": "code",
   "execution_count": null,
   "metadata": {},
   "outputs": [],
   "source": [
    "#aca hay que hacer el ADR(me quedo con los TF que estan en una pero no en otra)\n",
    "res_0=Nc[(res[\"healthy\"]>10) | (res[\"Infected\"]>10)]"
   ]
  },
  {
   "cell_type": "code",
   "execution_count": 72,
   "metadata": {},
   "outputs": [],
   "source": [
    "tf=pd.read_csv(\"TF_list.txt\",delimiter=\"\\t\",index_col=None,header=None)"
   ]
  },
  {
   "cell_type": "code",
   "execution_count": 78,
   "metadata": {},
   "outputs": [
    {
     "output_type": "execute_result",
     "data": {
      "text/plain": [
       "     Syb\n",
       "0   ADNP\n",
       "1  ADNP2\n",
       "2  AEBP2\n",
       "3    AHR\n",
       "4   AHRR"
      ],
      "text/html": "<div>\n<style scoped>\n    .dataframe tbody tr th:only-of-type {\n        vertical-align: middle;\n    }\n\n    .dataframe tbody tr th {\n        vertical-align: top;\n    }\n\n    .dataframe thead th {\n        text-align: right;\n    }\n</style>\n<table border=\"1\" class=\"dataframe\">\n  <thead>\n    <tr style=\"text-align: right;\">\n      <th></th>\n      <th>Syb</th>\n    </tr>\n  </thead>\n  <tbody>\n    <tr>\n      <th>0</th>\n      <td>ADNP</td>\n    </tr>\n    <tr>\n      <th>1</th>\n      <td>ADNP2</td>\n    </tr>\n    <tr>\n      <th>2</th>\n      <td>AEBP2</td>\n    </tr>\n    <tr>\n      <th>3</th>\n      <td>AHR</td>\n    </tr>\n    <tr>\n      <th>4</th>\n      <td>AHRR</td>\n    </tr>\n  </tbody>\n</table>\n</div>"
     },
     "metadata": {},
     "execution_count": 78
    }
   ],
   "source": [
    "#tf.rename(columns={0:\"Syb\"},inplace=True)\n",
    "tf.head()"
   ]
  },
  {
   "cell_type": "code",
   "execution_count": 79,
   "metadata": {},
   "outputs": [],
   "source": [
    "tf_contect=res.merge(tf, how='inner', on='Syb')"
   ]
  },
  {
   "cell_type": "code",
   "execution_count": 83,
   "metadata": {},
   "outputs": [
    {
     "output_type": "execute_result",
     "data": {
      "text/plain": [
       "     Syb    healthy  Infected\n",
       "0   ADNP  65.076682       0.0\n",
       "1  ADNP2  52.411738       0.0\n",
       "2  AEBP2  17.285226       0.0\n",
       "3    AHR  31.285276       0.0\n",
       "4   AHRR   3.914875       0.0"
      ],
      "text/html": "<div>\n<style scoped>\n    .dataframe tbody tr th:only-of-type {\n        vertical-align: middle;\n    }\n\n    .dataframe tbody tr th {\n        vertical-align: top;\n    }\n\n    .dataframe thead th {\n        text-align: right;\n    }\n</style>\n<table border=\"1\" class=\"dataframe\">\n  <thead>\n    <tr style=\"text-align: right;\">\n      <th></th>\n      <th>Syb</th>\n      <th>healthy</th>\n      <th>Infected</th>\n    </tr>\n  </thead>\n  <tbody>\n    <tr>\n      <th>0</th>\n      <td>ADNP</td>\n      <td>65.076682</td>\n      <td>0.0</td>\n    </tr>\n    <tr>\n      <th>1</th>\n      <td>ADNP2</td>\n      <td>52.411738</td>\n      <td>0.0</td>\n    </tr>\n    <tr>\n      <th>2</th>\n      <td>AEBP2</td>\n      <td>17.285226</td>\n      <td>0.0</td>\n    </tr>\n    <tr>\n      <th>3</th>\n      <td>AHR</td>\n      <td>31.285276</td>\n      <td>0.0</td>\n    </tr>\n    <tr>\n      <th>4</th>\n      <td>AHRR</td>\n      <td>3.914875</td>\n      <td>0.0</td>\n    </tr>\n  </tbody>\n</table>\n</div>"
     },
     "metadata": {},
     "execution_count": 83
    }
   ],
   "source": [
    "tf_contect.head()"
   ]
  },
  {
   "cell_type": "code",
   "execution_count": 110,
   "metadata": {},
   "outputs": [
    {
     "output_type": "execute_result",
     "data": {
      "text/plain": [
       "            healthy    Infected      Syb\n",
       "Syb                                     \n",
       "5S_rRNA    0.210406    0.000000  5S_rRNA\n",
       "A1BG       6.707452    0.000000     A1BG\n",
       "A1CF       0.331742    0.000000     A1CF\n",
       "A2M      549.352198  119.184148      A2M\n",
       "A2ML1      0.430229    0.000000    A2ML1"
      ],
      "text/html": "<div>\n<style scoped>\n    .dataframe tbody tr th:only-of-type {\n        vertical-align: middle;\n    }\n\n    .dataframe tbody tr th {\n        vertical-align: top;\n    }\n\n    .dataframe thead th {\n        text-align: right;\n    }\n</style>\n<table border=\"1\" class=\"dataframe\">\n  <thead>\n    <tr style=\"text-align: right;\">\n      <th></th>\n      <th>healthy</th>\n      <th>Infected</th>\n      <th>Syb</th>\n    </tr>\n    <tr>\n      <th>Syb</th>\n      <th></th>\n      <th></th>\n      <th></th>\n    </tr>\n  </thead>\n  <tbody>\n    <tr>\n      <th>5S_rRNA</th>\n      <td>0.210406</td>\n      <td>0.000000</td>\n      <td>5S_rRNA</td>\n    </tr>\n    <tr>\n      <th>A1BG</th>\n      <td>6.707452</td>\n      <td>0.000000</td>\n      <td>A1BG</td>\n    </tr>\n    <tr>\n      <th>A1CF</th>\n      <td>0.331742</td>\n      <td>0.000000</td>\n      <td>A1CF</td>\n    </tr>\n    <tr>\n      <th>A2M</th>\n      <td>549.352198</td>\n      <td>119.184148</td>\n      <td>A2M</td>\n    </tr>\n    <tr>\n      <th>A2ML1</th>\n      <td>0.430229</td>\n      <td>0.000000</td>\n      <td>A2ML1</td>\n    </tr>\n  </tbody>\n</table>\n</div>"
     },
     "metadata": {},
     "execution_count": 110
    }
   ],
   "source": [
    "res.to_csv(\"Ncounts2Syb_res.csv\",index=None)\n",
    "res[\"Syb\"]=res.index.values.tolist()\n",
    "res.head()"
   ]
  },
  {
   "cell_type": "code",
   "execution_count": 112,
   "metadata": {},
   "outputs": [
    {
     "output_type": "stream",
     "name": "stdout",
     "text": [
      "0\n1\n2\nA2M\n4\n"
     ]
    }
   ],
   "source": [
    "for i in range(0,5):\n",
    "    if res[\"healthy\"][i]>10:\n",
    "        print(res[\"Syb\"][i])\n",
    "        #graph.run(\"MERGE(a:EXPERIMENT{code:$code,condition:$condition}) MATCH(b:TF{name:$tf} CREATE (a)-[:DEG]->(b) \",code=\"GSM4462413\",condition=\"Healthy\", tf=res[\"Syb\"][i])\n",
    "    else:\n",
    "        print(i)"
   ]
  }
 ]
}