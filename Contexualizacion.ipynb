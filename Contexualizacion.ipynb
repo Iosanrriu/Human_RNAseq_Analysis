{
 "metadata": {
  "language_info": {
   "codemirror_mode": {
    "name": "ipython",
    "version": 3
   },
   "file_extension": ".py",
   "mimetype": "text/x-python",
   "name": "python",
   "nbconvert_exporter": "python",
   "pygments_lexer": "ipython3",
   "version": "3.9.1"
  },
  "orig_nbformat": 2,
  "kernelspec": {
   "name": "python391jvsc74a57bd02c1d810cbdec53ec64946343f3c89d77305c51d6346f2ac7bc7d3a93293d3fd2",
   "display_name": "Python 3.9.1 64-bit"
  },
  "metadata": {
   "interpreter": {
    "hash": "2c1d810cbdec53ec64946343f3c89d77305c51d6346f2ac7bc7d3a93293d3fd2"
   }
  }
 },
 "nbformat": 4,
 "nbformat_minor": 2,
 "cells": [
  {
   "source": [
    "Con los conteos realizados se filtran los coun>0\n",
    "\n",
    "se crea un scrip con los para neo4j con los genes/TF"
   ],
   "cell_type": "markdown",
   "metadata": {}
  },
  {
   "cell_type": "code",
   "execution_count": 86,
   "metadata": {},
   "outputs": [],
   "source": [
    "import pandas as pd\n",
    "import io\n",
    "\n",
    "E34=pd.read_csv(\"abundance.tsv\",delimiter=\"\\t\")"
   ]
  },
  {
   "cell_type": "code",
   "execution_count": 87,
   "metadata": {},
   "outputs": [
    {
     "output_type": "execute_result",
     "data": {
      "text/plain": [
       "           target_id  length  eff_length  est_counts  tpm\n",
       "0  ENST00000632684.1      12     2.60424         0.0  0.0\n",
       "1  ENST00000434970.2       9     2.52391         0.0  0.0\n",
       "2  ENST00000448914.1      13     2.62202         0.0  0.0\n",
       "3  ENST00000415118.1       8     2.48058         0.0  0.0\n",
       "4  ENST00000631435.1      12     2.60424         0.0  0.0"
      ],
      "text/html": "<div>\n<style scoped>\n    .dataframe tbody tr th:only-of-type {\n        vertical-align: middle;\n    }\n\n    .dataframe tbody tr th {\n        vertical-align: top;\n    }\n\n    .dataframe thead th {\n        text-align: right;\n    }\n</style>\n<table border=\"1\" class=\"dataframe\">\n  <thead>\n    <tr style=\"text-align: right;\">\n      <th></th>\n      <th>target_id</th>\n      <th>length</th>\n      <th>eff_length</th>\n      <th>est_counts</th>\n      <th>tpm</th>\n    </tr>\n  </thead>\n  <tbody>\n    <tr>\n      <th>0</th>\n      <td>ENST00000632684.1</td>\n      <td>12</td>\n      <td>2.60424</td>\n      <td>0.0</td>\n      <td>0.0</td>\n    </tr>\n    <tr>\n      <th>1</th>\n      <td>ENST00000434970.2</td>\n      <td>9</td>\n      <td>2.52391</td>\n      <td>0.0</td>\n      <td>0.0</td>\n    </tr>\n    <tr>\n      <th>2</th>\n      <td>ENST00000448914.1</td>\n      <td>13</td>\n      <td>2.62202</td>\n      <td>0.0</td>\n      <td>0.0</td>\n    </tr>\n    <tr>\n      <th>3</th>\n      <td>ENST00000415118.1</td>\n      <td>8</td>\n      <td>2.48058</td>\n      <td>0.0</td>\n      <td>0.0</td>\n    </tr>\n    <tr>\n      <th>4</th>\n      <td>ENST00000631435.1</td>\n      <td>12</td>\n      <td>2.60424</td>\n      <td>0.0</td>\n      <td>0.0</td>\n    </tr>\n  </tbody>\n</table>\n</div>"
     },
     "metadata": {},
     "execution_count": 87
    }
   ],
   "source": [
    "E34.head()"
   ]
  },
  {
   "cell_type": "code",
   "execution_count": 88,
   "metadata": {},
   "outputs": [
    {
     "output_type": "execute_result",
     "data": {
      "text/plain": [
       "             target_id  length  eff_length  est_counts        tpm\n",
       "252  ENST00000641710.1     606       407.0     14.1319    5.42888\n",
       "334  ENST00000613512.4    1451      1252.0     10.4212    1.30142\n",
       "354  ENST00000419783.2    1151       952.0   1045.3600  171.68500\n",
       "355  ENST00000419349.2    1135       936.0     30.4232    5.08197\n",
       "356  ENST00000643797.1     708       509.0    119.2120   36.61880"
      ],
      "text/html": "<div>\n<style scoped>\n    .dataframe tbody tr th:only-of-type {\n        vertical-align: middle;\n    }\n\n    .dataframe tbody tr th {\n        vertical-align: top;\n    }\n\n    .dataframe thead th {\n        text-align: right;\n    }\n</style>\n<table border=\"1\" class=\"dataframe\">\n  <thead>\n    <tr style=\"text-align: right;\">\n      <th></th>\n      <th>target_id</th>\n      <th>length</th>\n      <th>eff_length</th>\n      <th>est_counts</th>\n      <th>tpm</th>\n    </tr>\n  </thead>\n  <tbody>\n    <tr>\n      <th>252</th>\n      <td>ENST00000641710.1</td>\n      <td>606</td>\n      <td>407.0</td>\n      <td>14.1319</td>\n      <td>5.42888</td>\n    </tr>\n    <tr>\n      <th>334</th>\n      <td>ENST00000613512.4</td>\n      <td>1451</td>\n      <td>1252.0</td>\n      <td>10.4212</td>\n      <td>1.30142</td>\n    </tr>\n    <tr>\n      <th>354</th>\n      <td>ENST00000419783.2</td>\n      <td>1151</td>\n      <td>952.0</td>\n      <td>1045.3600</td>\n      <td>171.68500</td>\n    </tr>\n    <tr>\n      <th>355</th>\n      <td>ENST00000419349.2</td>\n      <td>1135</td>\n      <td>936.0</td>\n      <td>30.4232</td>\n      <td>5.08197</td>\n    </tr>\n    <tr>\n      <th>356</th>\n      <td>ENST00000643797.1</td>\n      <td>708</td>\n      <td>509.0</td>\n      <td>119.2120</td>\n      <td>36.61880</td>\n    </tr>\n  </tbody>\n</table>\n</div>"
     },
     "metadata": {},
     "execution_count": 88
    }
   ],
   "source": [
    "E34_0=E34[E34[\"est_counts\"]>10]\n",
    "ENST=E34_0[\"target_id\"]\n",
    "E34_0.head()"
   ]
  },
  {
   "cell_type": "code",
   "execution_count": 89,
   "metadata": {},
   "outputs": [
    {
     "output_type": "execute_result",
     "data": {
      "text/plain": [
       "pandas.core.series.Series"
      ]
     },
     "metadata": {},
     "execution_count": 89
    }
   ],
   "source": [
    "#type(E34_0)\n",
    "type(ENST)"
   ]
  },
  {
   "cell_type": "code",
   "execution_count": 90,
   "metadata": {},
   "outputs": [
    {
     "output_type": "execute_result",
     "data": {
      "text/plain": [
       "252    ENST00000641710.1\n",
       "334    ENST00000613512.4\n",
       "354    ENST00000419783.2\n",
       "355    ENST00000419349.2\n",
       "356    ENST00000643797.1\n",
       "Name: target_id, dtype: object"
      ]
     },
     "metadata": {},
     "execution_count": 90
    }
   ],
   "source": [
    "ENST.head()"
   ]
  },
  {
   "cell_type": "code",
   "execution_count": 91,
   "metadata": {},
   "outputs": [
    {
     "output_type": "execute_result",
     "data": {
      "text/plain": [
       "['ENST00000641710',\n",
       " 'ENST00000613512',\n",
       " 'ENST00000419783',\n",
       " 'ENST00000419349',\n",
       " 'ENST00000643797']"
      ]
     },
     "metadata": {},
     "execution_count": 91
    }
   ],
   "source": [
    "#ENST.reset_index(drop=True,inplace=True)\n",
    "ENST_adj=[]\n",
    "for i in range(0,len(ENST)):\n",
    "    s=ENST.iloc[i]\n",
    "    ENST_adj.append(s[:-2])\n",
    "ENST_adj[0:5]"
   ]
  },
  {
   "cell_type": "code",
   "execution_count": 70,
   "metadata": {},
   "outputs": [
    {
     "output_type": "execute_result",
     "data": {
      "text/plain": [
       "             target_id\n",
       "0      ENST00000641710\n",
       "1      ENST00000613512\n",
       "2      ENST00000419783\n",
       "3      ENST00000419349\n",
       "4      ENST00000643797\n",
       "...                ...\n",
       "33378  ENST00000631786\n",
       "33379  ENST00000583145\n",
       "33380  ENST00000566127\n",
       "33381  ENST00000574122\n",
       "33382  ENST00000383620\n",
       "\n",
       "[33383 rows x 1 columns]"
      ],
      "text/html": "<div>\n<style scoped>\n    .dataframe tbody tr th:only-of-type {\n        vertical-align: middle;\n    }\n\n    .dataframe tbody tr th {\n        vertical-align: top;\n    }\n\n    .dataframe thead th {\n        text-align: right;\n    }\n</style>\n<table border=\"1\" class=\"dataframe\">\n  <thead>\n    <tr style=\"text-align: right;\">\n      <th></th>\n      <th>target_id</th>\n    </tr>\n  </thead>\n  <tbody>\n    <tr>\n      <th>0</th>\n      <td>ENST00000641710</td>\n    </tr>\n    <tr>\n      <th>1</th>\n      <td>ENST00000613512</td>\n    </tr>\n    <tr>\n      <th>2</th>\n      <td>ENST00000419783</td>\n    </tr>\n    <tr>\n      <th>3</th>\n      <td>ENST00000419349</td>\n    </tr>\n    <tr>\n      <th>4</th>\n      <td>ENST00000643797</td>\n    </tr>\n    <tr>\n      <th>...</th>\n      <td>...</td>\n    </tr>\n    <tr>\n      <th>33378</th>\n      <td>ENST00000631786</td>\n    </tr>\n    <tr>\n      <th>33379</th>\n      <td>ENST00000583145</td>\n    </tr>\n    <tr>\n      <th>33380</th>\n      <td>ENST00000566127</td>\n    </tr>\n    <tr>\n      <th>33381</th>\n      <td>ENST00000574122</td>\n    </tr>\n    <tr>\n      <th>33382</th>\n      <td>ENST00000383620</td>\n    </tr>\n  </tbody>\n</table>\n<p>33383 rows × 1 columns</p>\n</div>"
     },
     "metadata": {},
     "execution_count": 70
    }
   ],
   "source": [
    "genes=pd.DataFrame(ENST_adj,columns=[\"target_id\"])\n",
    "genes# es un dataframe"
   ]
  },
  {
   "cell_type": "code",
   "execution_count": 1,
   "metadata": {},
   "outputs": [
    {
     "output_type": "error",
     "ename": "NameError",
     "evalue": "name 'pd' is not defined",
     "traceback": [
      "\u001b[1;31m---------------------------------------------------------------------------\u001b[0m",
      "\u001b[1;31mNameError\u001b[0m                                 Traceback (most recent call last)",
      "\u001b[1;32m<ipython-input-1-92936987d536>\u001b[0m in \u001b[0;36m<module>\u001b[1;34m\u001b[0m\n\u001b[1;32m----> 1\u001b[1;33m \u001b[0msimbols\u001b[0m\u001b[1;33m=\u001b[0m\u001b[0mpd\u001b[0m\u001b[1;33m.\u001b[0m\u001b[0mread_csv\u001b[0m\u001b[1;33m(\u001b[0m\u001b[1;34m\"t2g2s 4-10-21.txt\"\u001b[0m\u001b[1;33m,\u001b[0m\u001b[0mindex_col\u001b[0m\u001b[1;33m=\u001b[0m\u001b[1;32mNone\u001b[0m\u001b[1;33m,\u001b[0m\u001b[0mdelimiter\u001b[0m\u001b[1;33m=\u001b[0m\u001b[1;34m\"\\t\"\u001b[0m\u001b[1;33m)\u001b[0m\u001b[1;33m\u001b[0m\u001b[1;33m\u001b[0m\u001b[0m\n\u001b[0m\u001b[0;32m      2\u001b[0m \u001b[1;33m\u001b[0m\u001b[0m\n\u001b[0;32m      3\u001b[0m \u001b[0msimbols\u001b[0m\u001b[1;33m.\u001b[0m\u001b[0mhead\u001b[0m\u001b[1;33m(\u001b[0m\u001b[1;33m)\u001b[0m\u001b[1;33m\u001b[0m\u001b[1;33m\u001b[0m\u001b[0m\n",
      "\u001b[1;31mNameError\u001b[0m: name 'pd' is not defined"
     ]
    }
   ],
   "source": [
    "simbols=pd.read_csv(\"t2g2s 4-10-21.txt\",index_col=None,delimiter=\"\\t\")\n",
    "\n",
    "simbols.head()"
   ]
  },
  {
   "cell_type": "code",
   "execution_count": 72,
   "metadata": {},
   "outputs": [
    {
     "output_type": "execute_result",
     "data": {
      "text/plain": [
       "              target_id external_gene_name\n",
       "0       ENST00000387314              MT-TF\n",
       "1       ENST00000389680            MT-RNR1\n",
       "2       ENST00000387342              MT-TV\n",
       "3       ENST00000387347            MT-RNR2\n",
       "4       ENST00000386347             MT-TL1\n",
       "...                 ...                ...\n",
       "256178  ENST00000355360              PGBD2\n",
       "256179  ENST00000329291              PGBD2\n",
       "256180  ENST00000462488              PGBD2\n",
       "256181  ENST00000363625         RNU6-1205P\n",
       "256182  ENST00000430973          RPL23AP25\n",
       "\n",
       "[256183 rows x 2 columns]"
      ],
      "text/html": "<div>\n<style scoped>\n    .dataframe tbody tr th:only-of-type {\n        vertical-align: middle;\n    }\n\n    .dataframe tbody tr th {\n        vertical-align: top;\n    }\n\n    .dataframe thead th {\n        text-align: right;\n    }\n</style>\n<table border=\"1\" class=\"dataframe\">\n  <thead>\n    <tr style=\"text-align: right;\">\n      <th></th>\n      <th>target_id</th>\n      <th>external_gene_name</th>\n    </tr>\n  </thead>\n  <tbody>\n    <tr>\n      <th>0</th>\n      <td>ENST00000387314</td>\n      <td>MT-TF</td>\n    </tr>\n    <tr>\n      <th>1</th>\n      <td>ENST00000389680</td>\n      <td>MT-RNR1</td>\n    </tr>\n    <tr>\n      <th>2</th>\n      <td>ENST00000387342</td>\n      <td>MT-TV</td>\n    </tr>\n    <tr>\n      <th>3</th>\n      <td>ENST00000387347</td>\n      <td>MT-RNR2</td>\n    </tr>\n    <tr>\n      <th>4</th>\n      <td>ENST00000386347</td>\n      <td>MT-TL1</td>\n    </tr>\n    <tr>\n      <th>...</th>\n      <td>...</td>\n      <td>...</td>\n    </tr>\n    <tr>\n      <th>256178</th>\n      <td>ENST00000355360</td>\n      <td>PGBD2</td>\n    </tr>\n    <tr>\n      <th>256179</th>\n      <td>ENST00000329291</td>\n      <td>PGBD2</td>\n    </tr>\n    <tr>\n      <th>256180</th>\n      <td>ENST00000462488</td>\n      <td>PGBD2</td>\n    </tr>\n    <tr>\n      <th>256181</th>\n      <td>ENST00000363625</td>\n      <td>RNU6-1205P</td>\n    </tr>\n    <tr>\n      <th>256182</th>\n      <td>ENST00000430973</td>\n      <td>RPL23AP25</td>\n    </tr>\n  </tbody>\n</table>\n<p>256183 rows × 2 columns</p>\n</div>"
     },
     "metadata": {},
     "execution_count": 72
    }
   ],
   "source": [
    "s_id=simbols.rename(columns={'ensembl_transcript_id':'target_id'})\n",
    "s_id.head()\n",
    "s=s_id[['target_id',\"external_gene_name\"]]\n",
    "s# es un dataframe"
   ]
  },
  {
   "cell_type": "code",
   "execution_count": 73,
   "metadata": {},
   "outputs": [],
   "source": [
    "#simbols.groupby(\"external_gene_name\").nunique()"
   ]
  },
  {
   "cell_type": "code",
   "execution_count": 93,
   "metadata": {},
   "outputs": [
    {
     "output_type": "error",
     "ename": "TypeError",
     "evalue": "Can only merge Series or DataFrame objects, a <class 'str'> was passed",
     "traceback": [
      "\u001b[1;31m---------------------------------------------------------------------------\u001b[0m",
      "\u001b[1;31mTypeError\u001b[0m                                 Traceback (most recent call last)",
      "\u001b[1;32m<ipython-input-93-0f12e1a474db>\u001b[0m in \u001b[0;36m<module>\u001b[1;34m\u001b[0m\n\u001b[1;32m----> 1\u001b[1;33m \u001b[0mgenes_merge\u001b[0m\u001b[1;33m=\u001b[0m\u001b[0mpd\u001b[0m\u001b[1;33m.\u001b[0m\u001b[0mmerge\u001b[0m\u001b[1;33m(\u001b[0m\u001b[0mgenes\u001b[0m\u001b[1;33m,\u001b[0m\u001b[0ms\u001b[0m\u001b[1;33m,\u001b[0m \u001b[0mon\u001b[0m\u001b[1;33m=\u001b[0m\u001b[1;34m\"target_id\"\u001b[0m\u001b[1;33m)\u001b[0m\u001b[1;33m\u001b[0m\u001b[1;33m\u001b[0m\u001b[0m\n\u001b[0m\u001b[0;32m      2\u001b[0m \u001b[0mgenes_merge\u001b[0m\u001b[1;33m.\u001b[0m\u001b[0mhead\u001b[0m\u001b[1;33m(\u001b[0m\u001b[1;33m)\u001b[0m\u001b[1;33m\u001b[0m\u001b[1;33m\u001b[0m\u001b[0m\n",
      "\u001b[1;32m~\\AppData\\Local\\Programs\\Python\\Python39\\lib\\site-packages\\pandas\\core\\reshape\\merge.py\u001b[0m in \u001b[0;36mmerge\u001b[1;34m(left, right, how, on, left_on, right_on, left_index, right_index, sort, suffixes, copy, indicator, validate)\u001b[0m\n\u001b[0;32m     72\u001b[0m     \u001b[0mvalidate\u001b[0m\u001b[1;33m=\u001b[0m\u001b[1;32mNone\u001b[0m\u001b[1;33m,\u001b[0m\u001b[1;33m\u001b[0m\u001b[1;33m\u001b[0m\u001b[0m\n\u001b[0;32m     73\u001b[0m ) -> \"DataFrame\":\n\u001b[1;32m---> 74\u001b[1;33m     op = _MergeOperation(\n\u001b[0m\u001b[0;32m     75\u001b[0m         \u001b[0mleft\u001b[0m\u001b[1;33m,\u001b[0m\u001b[1;33m\u001b[0m\u001b[1;33m\u001b[0m\u001b[0m\n\u001b[0;32m     76\u001b[0m         \u001b[0mright\u001b[0m\u001b[1;33m,\u001b[0m\u001b[1;33m\u001b[0m\u001b[1;33m\u001b[0m\u001b[0m\n",
      "\u001b[1;32m~\\AppData\\Local\\Programs\\Python\\Python39\\lib\\site-packages\\pandas\\core\\reshape\\merge.py\u001b[0m in \u001b[0;36m__init__\u001b[1;34m(self, left, right, how, on, left_on, right_on, axis, left_index, right_index, sort, suffixes, copy, indicator, validate)\u001b[0m\n\u001b[0;32m    597\u001b[0m     ):\n\u001b[0;32m    598\u001b[0m         \u001b[0m_left\u001b[0m \u001b[1;33m=\u001b[0m \u001b[0m_validate_operand\u001b[0m\u001b[1;33m(\u001b[0m\u001b[0mleft\u001b[0m\u001b[1;33m)\u001b[0m\u001b[1;33m\u001b[0m\u001b[1;33m\u001b[0m\u001b[0m\n\u001b[1;32m--> 599\u001b[1;33m         \u001b[0m_right\u001b[0m \u001b[1;33m=\u001b[0m \u001b[0m_validate_operand\u001b[0m\u001b[1;33m(\u001b[0m\u001b[0mright\u001b[0m\u001b[1;33m)\u001b[0m\u001b[1;33m\u001b[0m\u001b[1;33m\u001b[0m\u001b[0m\n\u001b[0m\u001b[0;32m    600\u001b[0m         \u001b[0mself\u001b[0m\u001b[1;33m.\u001b[0m\u001b[0mleft\u001b[0m \u001b[1;33m=\u001b[0m \u001b[0mself\u001b[0m\u001b[1;33m.\u001b[0m\u001b[0morig_left\u001b[0m \u001b[1;33m=\u001b[0m \u001b[0m_left\u001b[0m\u001b[1;33m\u001b[0m\u001b[1;33m\u001b[0m\u001b[0m\n\u001b[0;32m    601\u001b[0m         \u001b[0mself\u001b[0m\u001b[1;33m.\u001b[0m\u001b[0mright\u001b[0m \u001b[1;33m=\u001b[0m \u001b[0mself\u001b[0m\u001b[1;33m.\u001b[0m\u001b[0morig_right\u001b[0m \u001b[1;33m=\u001b[0m \u001b[0m_right\u001b[0m\u001b[1;33m\u001b[0m\u001b[1;33m\u001b[0m\u001b[0m\n",
      "\u001b[1;32m~\\AppData\\Local\\Programs\\Python\\Python39\\lib\\site-packages\\pandas\\core\\reshape\\merge.py\u001b[0m in \u001b[0;36m_validate_operand\u001b[1;34m(obj)\u001b[0m\n\u001b[0;32m   2146\u001b[0m             \u001b[1;32mreturn\u001b[0m \u001b[0mobj\u001b[0m\u001b[1;33m.\u001b[0m\u001b[0mto_frame\u001b[0m\u001b[1;33m(\u001b[0m\u001b[1;33m)\u001b[0m\u001b[1;33m\u001b[0m\u001b[1;33m\u001b[0m\u001b[0m\n\u001b[0;32m   2147\u001b[0m     \u001b[1;32melse\u001b[0m\u001b[1;33m:\u001b[0m\u001b[1;33m\u001b[0m\u001b[1;33m\u001b[0m\u001b[0m\n\u001b[1;32m-> 2148\u001b[1;33m         raise TypeError(\n\u001b[0m\u001b[0;32m   2149\u001b[0m             \u001b[1;34mf\"Can only merge Series or DataFrame objects, a {type(obj)} was passed\"\u001b[0m\u001b[1;33m\u001b[0m\u001b[1;33m\u001b[0m\u001b[0m\n\u001b[0;32m   2150\u001b[0m         )\n",
      "\u001b[1;31mTypeError\u001b[0m: Can only merge Series or DataFrame objects, a <class 'str'> was passed"
     ]
    }
   ],
   "source": [
    "genes_merge=pd.merge(genes,s, on=\"target_id\")\n",
    "genes_merge.head()"
   ]
  },
  {
   "cell_type": "code",
   "execution_count": 94,
   "metadata": {},
   "outputs": [
    {
     "output_type": "execute_result",
     "data": {
      "text/plain": [
       "target_id             0\n",
       "external_gene_name    0\n",
       "dtype: int64"
      ]
     },
     "metadata": {},
     "execution_count": 94
    }
   ],
   "source": [
    "genes_merge.isnull().sum(axis=0)"
   ]
  },
  {
   "cell_type": "code",
   "execution_count": 95,
   "metadata": {},
   "outputs": [
    {
     "output_type": "execute_result",
     "data": {
      "text/plain": [
       "                    target_id\n",
       "external_gene_name           \n",
       "A1BG                        2\n",
       "A2M                         1\n",
       "A4GALT                      3\n",
       "AAAS                        2\n",
       "AACS                        1\n",
       "...                       ...\n",
       "ZXDC                        3\n",
       "ZYG11B                      1\n",
       "ZYX                         6\n",
       "ZZEF1                       1\n",
       "ZZZ3                        3\n",
       "\n",
       "[12617 rows x 1 columns]"
      ],
      "text/html": "<div>\n<style scoped>\n    .dataframe tbody tr th:only-of-type {\n        vertical-align: middle;\n    }\n\n    .dataframe tbody tr th {\n        vertical-align: top;\n    }\n\n    .dataframe thead th {\n        text-align: right;\n    }\n</style>\n<table border=\"1\" class=\"dataframe\">\n  <thead>\n    <tr style=\"text-align: right;\">\n      <th></th>\n      <th>target_id</th>\n    </tr>\n    <tr>\n      <th>external_gene_name</th>\n      <th></th>\n    </tr>\n  </thead>\n  <tbody>\n    <tr>\n      <th>A1BG</th>\n      <td>2</td>\n    </tr>\n    <tr>\n      <th>A2M</th>\n      <td>1</td>\n    </tr>\n    <tr>\n      <th>A4GALT</th>\n      <td>3</td>\n    </tr>\n    <tr>\n      <th>AAAS</th>\n      <td>2</td>\n    </tr>\n    <tr>\n      <th>AACS</th>\n      <td>1</td>\n    </tr>\n    <tr>\n      <th>...</th>\n      <td>...</td>\n    </tr>\n    <tr>\n      <th>ZXDC</th>\n      <td>3</td>\n    </tr>\n    <tr>\n      <th>ZYG11B</th>\n      <td>1</td>\n    </tr>\n    <tr>\n      <th>ZYX</th>\n      <td>6</td>\n    </tr>\n    <tr>\n      <th>ZZEF1</th>\n      <td>1</td>\n    </tr>\n    <tr>\n      <th>ZZZ3</th>\n      <td>3</td>\n    </tr>\n  </tbody>\n</table>\n<p>12617 rows × 1 columns</p>\n</div>"
     },
     "metadata": {},
     "execution_count": 95
    }
   ],
   "source": [
    "gene_contxt=genes_merge.groupby(\"external_gene_name\").nunique()\n",
    "gene_contxt"
   ]
  },
  {
   "cell_type": "code",
   "execution_count": 76,
   "metadata": {},
   "outputs": [
    {
     "output_type": "execute_result",
     "data": {
      "text/plain": [
       "[('ADNP', 'ATF7IP'),\n",
       " ('ADNP', 'DYRK1A'),\n",
       " ('ADNP', 'TLK1'),\n",
       " ('ADNP', 'ZMYM4'),\n",
       " ('ADNP', 'ABCC1')]"
      ]
     },
     "metadata": {},
     "execution_count": 76
    }
   ],
   "source": [
    "do=pd.read_csv(\"dorothea_final.csv\",index_col=None,delimiter=\"\\t\",names=[\"TF\",\"target\"])\n",
    "ldo=list(do.to_records(index=False))\n",
    "ldo[0:5]"
   ]
  },
  {
   "source": [
    "buscamos cuantos de los genes son fatores de transcripcion segun el simbol"
   ],
   "cell_type": "markdown",
   "metadata": {}
  },
  {
   "cell_type": "code",
   "execution_count": 78,
   "metadata": {},
   "outputs": [
    {
     "output_type": "stream",
     "name": "stdout",
     "text": [
      "1395\n"
     ]
    }
   ],
   "source": [
    "#HACER UN DICCIONARIO\n",
    "TFs=[]\n",
    "for tf,target in ldo:\n",
    "    if tf not in TFs:\n",
    "        TFs.append(tf)\n",
    "print(len(TFs))#TFs lista de factores de transcripcion en dorothea\n",
    "#TFs"
   ]
  },
  {
   "cell_type": "code",
   "execution_count": 79,
   "metadata": {
    "tags": []
   },
   "outputs": [
    {
     "output_type": "stream",
     "name": "stdout",
     "text": [
      "12617\n"
     ]
    },
    {
     "output_type": "execute_result",
     "data": {
      "text/plain": [
       "list"
      ]
     },
     "metadata": {},
     "execution_count": 79
    }
   ],
   "source": [
    "#type(TFs)#[-10:]\n",
    "genes_contx=list(genes_merge[\"external_gene_name\"].unique())\n",
    "print(len(genes_contx))\n",
    "genes_contx[0:5]\n",
    "type(genes_contx)"
   ]
  },
  {
   "cell_type": "code",
   "execution_count": 80,
   "metadata": {},
   "outputs": [
    {
     "output_type": "execute_result",
     "data": {
      "text/plain": [
       "(['MEPCE',\n",
       "  'ARHGAP27',\n",
       "  'ENTPD6',\n",
       "  'SMURF1',\n",
       "  'NARS1',\n",
       "  'WDFY4',\n",
       "  'TMEM168',\n",
       "  'TRIM26',\n",
       "  'TOM1L2',\n",
       "  'EIF1'],\n",
       " ['ADNP',\n",
       "  'ADNP2',\n",
       "  'AEBP2',\n",
       "  'AHR',\n",
       "  'AHRR',\n",
       "  'AIRE',\n",
       "  'ALX1',\n",
       "  'ALX3',\n",
       "  'ALX4',\n",
       "  'AR'])"
      ]
     },
     "metadata": {},
     "execution_count": 80
    }
   ],
   "source": [
    "#genes_contx=sorted(genes_contx)\n",
    "genes_contx[1050:1060],TFs[0:10]"
   ]
  },
  {
   "cell_type": "code",
   "execution_count": 81,
   "metadata": {},
   "outputs": [],
   "source": [
    "TF_contx=[]\n",
    "for tf in TFs:\n",
    "    if tf in genes_contx:\n",
    "        TF_contx.append(tf)\n"
   ]
  },
  {
   "cell_type": "code",
   "execution_count": 82,
   "metadata": {},
   "outputs": [
    {
     "output_type": "execute_result",
     "data": {
      "text/plain": [
       "1395"
      ]
     },
     "metadata": {},
     "execution_count": 82
    }
   ],
   "source": [
    "len(TFs)"
   ]
  },
  {
   "source": [
    "print(len(TF_contx))\n",
    "print(type(TF_contx))\n",
    "TF_contx[0:5]"
   ],
   "cell_type": "code",
   "metadata": {},
   "execution_count": 83,
   "outputs": [
    {
     "output_type": "stream",
     "name": "stdout",
     "text": [
      "930\n<class 'list'>\n"
     ]
    },
    {
     "output_type": "execute_result",
     "data": {
      "text/plain": [
       "['ADNP', 'ADNP2', 'AEBP2', 'AHR', 'AHRR']"
      ]
     },
     "metadata": {},
     "execution_count": 83
    }
   ]
  },
  {
   "cell_type": "code",
   "execution_count": 84,
   "metadata": {},
   "outputs": [
    {
     "output_type": "stream",
     "name": "stdout",
     "text": [
      "331295 486751\n"
     ]
    },
    {
     "output_type": "execute_result",
     "data": {
      "text/plain": [
       "(None, pandas.core.frame.DataFrame)"
      ]
     },
     "metadata": {},
     "execution_count": 84
    }
   ],
   "source": [
    "#subset de dototea con los TF encontrados en el experimento\n",
    "do_contx=do[do[\"TF\"].isin(TF_contx)]\n",
    "print(len(do_contx),   len(do)),type(do_contx)"
   ]
  },
  {
   "source": [
    "creaccion de script para contextualizacion de red"
   ],
   "cell_type": "code",
   "metadata": {},
   "execution_count": 85,
   "outputs": [
    {
     "output_type": "error",
     "ename": "SyntaxError",
     "evalue": "invalid syntax (<ipython-input-85-f561204ecb71>, line 1)",
     "traceback": [
      "\u001b[1;36m  File \u001b[1;32m\"<ipython-input-85-f561204ecb71>\"\u001b[1;36m, line \u001b[1;32m1\u001b[0m\n\u001b[1;33m    creaccion de script para contextualizacion de red\u001b[0m\n\u001b[1;37m              ^\u001b[0m\n\u001b[1;31mSyntaxError\u001b[0m\u001b[1;31m:\u001b[0m invalid syntax\n"
     ]
    }
   ]
  },
  {
   "cell_type": "code",
   "execution_count": 62,
   "metadata": {},
   "outputs": [],
   "source": [
    "genes_contxDF=pd.DataFrame(genes_contx,columns=[\"genes\"])# contextualizados ~19.000 genes (pueden o no ser TF filtro >0)\n",
    "genes_contxDF.to_csv(r\"C:\\Users\\espin\\OneDrive\\Escritorio\\MCI\\SCRIPTS\\genes_contx.csv\",index=False)"
   ]
  },
  {
   "cell_type": "code",
   "execution_count": 51,
   "metadata": {},
   "outputs": [],
   "source": [
    "# cargar un csv con los TF contextualizados para el experimento\n",
    "TFsDF=pd.DataFrame(TFs,columns=[\"TF\"])# 1395 TF de dorothea\n",
    "TFsDF.to_csv(r\"C:\\Users\\espin\\OneDrive\\Escritorio\\MCI\\SCRIPTS\\TFs.csv\",index=False)\n"
   ]
  },
  {
   "cell_type": "code",
   "execution_count": 61,
   "metadata": {},
   "outputs": [],
   "source": [
    "do_contx.to_csv(r\"C:\\Users\\espin\\OneDrive\\Escritorio\\MCI\\SCRIPTS\\do_contx.csv\",index=False)\n",
    "g"
   ]
  },
  {
   "cell_type": "code",
   "execution_count": 26,
   "metadata": {},
   "outputs": [],
   "source": [
    "#genes2=list(TF_T_contx.to_records(index=False))"
   ]
  },
  {
   "cell_type": "code",
   "execution_count": 27,
   "metadata": {},
   "outputs": [],
   "source": [
    "#crear texto para las relaciones entre nodos\n",
    "\n",
    "#contx_script=open('contx_script.txt', 'w')\n",
    "#for start, end in genes2:   \n",
    "#   contx_script.write(\"merge (ori:GENE:TF{name:'\"+start+\"'})\\n\"+\"merge(t:GENE{name:'\"+end+\"'})\\n\"+\"CREATE(ori)-[:REGULATES]->(t);\\n\")\n",
    "#contx_script.close()"
   ]
  },
  {
   "cell_type": "code",
   "execution_count": null,
   "metadata": {},
   "outputs": [],
   "source": []
  }
 ]
}