{
 "metadata": {
  "language_info": {
   "codemirror_mode": {
    "name": "ipython",
    "version": 3
   },
   "file_extension": ".py",
   "mimetype": "text/x-python",
   "name": "python",
   "nbconvert_exporter": "python",
   "pygments_lexer": "ipython3",
   "version": "3.9.1"
  },
  "orig_nbformat": 4,
  "kernelspec": {
   "name": "python3",
   "display_name": "Python 3.9.1 64-bit"
  },
  "interpreter": {
   "hash": "2c1d810cbdec53ec64946343f3c89d77305c51d6346f2ac7bc7d3a93293d3fd2"
  }
 },
 "nbformat": 4,
 "nbformat_minor": 2,
 "cells": [
  {
   "cell_type": "code",
   "execution_count": 2,
   "source": [
    "import pandas as pd\r\n",
    "import numpy as np \r\n",
    "from py2neo import Node,Relationship,Graph, database,NodeMatcher "
   ],
   "outputs": [],
   "metadata": {}
  },
  {
   "cell_type": "markdown",
   "source": [
    "Database conecction"
   ],
   "metadata": {}
  },
  {
   "cell_type": "code",
   "execution_count": 23,
   "source": [
    "graph=Graph()# or Graph('bolt://neo4j@localhost:7687')"
   ],
   "outputs": [],
   "metadata": {}
  },
  {
   "cell_type": "markdown",
   "source": [
    "Crar nodos \"Gene\" a partir de red de referencia dorothea_final.csv"
   ],
   "metadata": {}
  },
  {
   "cell_type": "code",
   "execution_count": 4,
   "source": [
    "genes=pd.read_csv(r\"C:\\Users\\espin\\OneDrive\\Escritorio\\MCI\\SCRIPTS\\dorothea_final.csv\", delimiter=\"\\t\",header=None)\r\n",
    "TF=genes[0]\r\n",
    "Gen=genes[1]\r\n",
    "TF_list=[]\r\n",
    "Gen_list=[]\r\n",
    "for start in TF:\r\n",
    "        if start not in TF_list:#si no existe el nodo then\r\n",
    "                TF_list.append(start) # agregalo\r\n",
    "for start in Gen:\r\n",
    "        if start not in Gen_list:#si no existe el nodo then\r\n",
    "                Gen_list.append(start)#agregalo"
   ],
   "outputs": [],
   "metadata": {}
  },
  {
   "cell_type": "code",
   "execution_count": 5,
   "source": [
    "len(Gen_list),len(TF_list)"
   ],
   "outputs": [
    {
     "output_type": "execute_result",
     "data": {
      "text/plain": [
       "(20244, 1395)"
      ]
     },
     "metadata": {},
     "execution_count": 5
    }
   ],
   "metadata": {}
  },
  {
   "cell_type": "markdown",
   "source": [
    "Tenemos 20244 genes de los cuales 1395 son factores de transcripcion"
   ],
   "metadata": {}
  },
  {
   "cell_type": "code",
   "execution_count": 13,
   "source": [
    "for gen in Gen_list[]:\r\n",
    "    #print(\"CREATE(:GENE{name:'\"+gen+\"'})\")\r\n",
    "    graph.run(\"Create(a:Gene{name:$name})\",name=gen)"
   ],
   "outputs": [],
   "metadata": {}
  },
  {
   "cell_type": "markdown",
   "source": [
    "Crear reaciones \"Regulates\" entre los genes creados segun dorothea_final.csv usando tuplas [crear las tuplas se demora un poco]"
   ],
   "metadata": {}
  },
  {
   "cell_type": "code",
   "execution_count": 16,
   "source": [
    "#genes=pd.read_csv(r\"C:\\Users\\espin\\OneDrive\\Escritorio\\MCI\\SCRIPTS\\dorothea_final.csv\", delimiter=\"\\t\",header=None)\r\n",
    "#genes2=list(genes.to_records(index=False))\r\n",
    "\r\n",
    "for tupla in genes2[]:\r\n",
    "    #print(\"MATCH(a:Gene{name:\",tupla[0],\") MATCH(b:Gene{name:\",tupla[1],\") CREATE (a)-[:Regulates]->(b)\")\r\n",
    "    graph.run(\"MATCH(a:Gene{name:$name}) MATCH(b:Gene{name:$name1}) CREATE (a)-[:Regulates]->(b)\",name=tupla[0],name1=tupla[1])\r\n"
   ],
   "outputs": [],
   "metadata": {}
  },
  {
   "cell_type": "markdown",
   "source": [
    "Con DisGeNet database, crear los nodos para todas las enfermedades conocidas y las relaciones a todos los genes existentes"
   ],
   "metadata": {}
  },
  {
   "cell_type": "code",
   "execution_count": 47,
   "source": [
    "GDAs=pd.read_csv(r\"C:\\Users\\espin\\OneDrive\\Escritorio\\MCI\\SCRIPTS\\GDAs_16_7_21.csv\")\r\n",
    "#GDAs.head()\r\n",
    "GDAs_1=GDAs.head()\r\n",
    "GDAs_1#datagrame first 5 rows og GDAs"
   ],
   "outputs": [
    {
     "output_type": "execute_result",
     "data": {
      "text/plain": [
       "   Gene          Gene_Full_Name                                Disease  \\\n",
       "0  A1BG  alpha-1-B glycoprotein                          Schizophrenia   \n",
       "1  NAT2   N-acetyltransferase 2  Malignant neoplasm of urinary bladder   \n",
       "2  NAT2   N-acetyltransferase 2                       Bladder Neoplasm   \n",
       "3  NAT2   N-acetyltransferase 2           Malignant neoplasm of breast   \n",
       "4  NAT2   N-acetyltransferase 2              Coronary Arteriosclerosis   \n",
       "\n",
       "  Disease_id  Score_gda  \n",
       "0   C0036341       0.30  \n",
       "1   C0005684       0.40  \n",
       "2   C0005695       0.40  \n",
       "3   C0006142       0.40  \n",
       "4   C0010054       0.31  "
      ],
      "text/html": [
       "<div>\n",
       "<style scoped>\n",
       "    .dataframe tbody tr th:only-of-type {\n",
       "        vertical-align: middle;\n",
       "    }\n",
       "\n",
       "    .dataframe tbody tr th {\n",
       "        vertical-align: top;\n",
       "    }\n",
       "\n",
       "    .dataframe thead th {\n",
       "        text-align: right;\n",
       "    }\n",
       "</style>\n",
       "<table border=\"1\" class=\"dataframe\">\n",
       "  <thead>\n",
       "    <tr style=\"text-align: right;\">\n",
       "      <th></th>\n",
       "      <th>Gene</th>\n",
       "      <th>Gene_Full_Name</th>\n",
       "      <th>Disease</th>\n",
       "      <th>Disease_id</th>\n",
       "      <th>Score_gda</th>\n",
       "    </tr>\n",
       "  </thead>\n",
       "  <tbody>\n",
       "    <tr>\n",
       "      <th>0</th>\n",
       "      <td>A1BG</td>\n",
       "      <td>alpha-1-B glycoprotein</td>\n",
       "      <td>Schizophrenia</td>\n",
       "      <td>C0036341</td>\n",
       "      <td>0.30</td>\n",
       "    </tr>\n",
       "    <tr>\n",
       "      <th>1</th>\n",
       "      <td>NAT2</td>\n",
       "      <td>N-acetyltransferase 2</td>\n",
       "      <td>Malignant neoplasm of urinary bladder</td>\n",
       "      <td>C0005684</td>\n",
       "      <td>0.40</td>\n",
       "    </tr>\n",
       "    <tr>\n",
       "      <th>2</th>\n",
       "      <td>NAT2</td>\n",
       "      <td>N-acetyltransferase 2</td>\n",
       "      <td>Bladder Neoplasm</td>\n",
       "      <td>C0005695</td>\n",
       "      <td>0.40</td>\n",
       "    </tr>\n",
       "    <tr>\n",
       "      <th>3</th>\n",
       "      <td>NAT2</td>\n",
       "      <td>N-acetyltransferase 2</td>\n",
       "      <td>Malignant neoplasm of breast</td>\n",
       "      <td>C0006142</td>\n",
       "      <td>0.40</td>\n",
       "    </tr>\n",
       "    <tr>\n",
       "      <th>4</th>\n",
       "      <td>NAT2</td>\n",
       "      <td>N-acetyltransferase 2</td>\n",
       "      <td>Coronary Arteriosclerosis</td>\n",
       "      <td>C0010054</td>\n",
       "      <td>0.31</td>\n",
       "    </tr>\n",
       "  </tbody>\n",
       "</table>\n",
       "</div>"
      ]
     },
     "metadata": {},
     "execution_count": 47
    }
   ],
   "metadata": {}
  },
  {
   "cell_type": "code",
   "execution_count": 93,
   "source": [
    "GDAs.shape"
   ],
   "outputs": [
    {
     "output_type": "execute_result",
     "data": {
      "text/plain": [
       "(60478, 5)"
      ]
     },
     "metadata": {},
     "execution_count": 93
    }
   ],
   "metadata": {}
  },
  {
   "cell_type": "code",
   "execution_count": 98,
   "source": [
    "Desease_list=[] \r\n",
    "Desease_id_list=[]\r\n",
    "for i in range(0,len(GDAs)):\r\n",
    "#for desease ,id_desease in GDAs_1[[\"Disease\",\"Disease_id\"]]:\r\n",
    "    if GDAs[\"Disease\"][i] not in Desease_list:#si no existe el nodo then\r\n",
    "        Desease_list.append(GDAs[\"Disease\"][i])\r\n",
    "        Desease_id_list.append([GDAs[\"Disease\"][i],GDAs[\"Disease_id\"][i]]) # agregalo\r\n",
    "print(Desease_id_list[1],len(Desease_id_list))"
   ],
   "outputs": [
    {
     "output_type": "stream",
     "name": "stdout",
     "text": [
      "['Malignant neoplasm of urinary bladder', 'C0005684'] 9347\n"
     ]
    }
   ],
   "metadata": {}
  },
  {
   "cell_type": "code",
   "execution_count": 113,
   "source": [
    "Desease_id_list[1:3]"
   ],
   "outputs": [
    {
     "output_type": "execute_result",
     "data": {
      "text/plain": [
       "[['Malignant neoplasm of urinary bladder', 'C0005684'],\n",
       " ['Bladder Neoplasm', 'C0005695']]"
      ]
     },
     "metadata": {},
     "execution_count": 113
    }
   ],
   "metadata": {}
  },
  {
   "cell_type": "markdown",
   "source": [
    "Crear nodos \"Desease\", con atributo \"CIU\", y crear relaciones \"GDA\", con atributo \"score\", entre \"Gene\" y \"Desease\"(recordar despues encontrar una forma de agrupar enfermedades)"
   ],
   "metadata": {}
  },
  {
   "cell_type": "code",
   "execution_count": 102,
   "source": [
    "for des in Desease_id_list: \r\n",
    "    #print(\"CREATE(:GENE{name:'\"+gen+\"'})\")\r\n",
    "    graph.run(\"Create(a:Desease{name:$name,CUI:$cui})\",name=des[0],cui=des[1])"
   ],
   "outputs": [],
   "metadata": {}
  },
  {
   "cell_type": "code",
   "execution_count": 118,
   "source": [
    "for i in range(0,len(GDAs)):\r\n",
    "    graph.run(\"MATCH(a:Desease{name:$name}) MATCH(b:Gene{name:$name1}) CREATE(a)-[:GDA{GDA_score:$name2}]->(b)\",name1=GDAs[\"Gene\"][i],name=GDAs[\"Disease\"][i],name2=GDAs[\"Score_gda\"][i])"
   ],
   "outputs": [],
   "metadata": {}
  },
  {
   "cell_type": "markdown",
   "source": [
    "VALIDAR cuales son las relaciones gda que no se incorporaron"
   ],
   "metadata": {}
  },
  {
   "cell_type": "code",
   "execution_count": null,
   "source": [
    "# contar todos los tipos de relaciones\r\n",
    "MATCH ()-[relationship]->() \r\n",
    "RETURN TYPE(relationship) AS type, COUNT(relationship) AS amount\r\n",
    "ORDER BY amount DESC;\r\n",
    "# Contar nodos por label\r\n",
    "MATCH (n) \r\n",
    "RETURN DISTINCT count(labels(n)), labels(n);"
   ],
   "outputs": [],
   "metadata": {}
  },
  {
   "cell_type": "markdown",
   "source": [
    "testeo funcion .evaluate()"
   ],
   "metadata": {}
  },
  {
   "cell_type": "code",
   "execution_count": 154,
   "source": [
    " b=graph.run(\"MATCH(b:Gene{name:$name1}) return b.name\",name1=GDAs[\"Gene\"][0]).evaluate()\r\n",
    " print(type(b),b)"
   ],
   "outputs": [
    {
     "output_type": "stream",
     "name": "stdout",
     "text": [
      "<class 'str'> A1BG\n"
     ]
    }
   ],
   "metadata": {}
  },
  {
   "cell_type": "code",
   "execution_count": 159,
   "source": [
    "Gene_not_found=[]\r\n",
    "for i in range(0,len(GDAs[\"Gene\"])):\r\n",
    "    t=GDAs[\"Gene\"][i]\r\n",
    "    b=graph.run(\"MATCH(b:Gene{name:$name1}) return b.name\",name1=t).evaluate()\r\n",
    "    if b!=GDAs[\"Gene\"][i]:\r\n",
    "        Gene_not_found.append(t)#e n este caso incluye genes repetidos"
   ],
   "outputs": [],
   "metadata": {}
  },
  {
   "cell_type": "code",
   "execution_count": 162,
   "source": [
    "Gene_not_found_no_rep=[]\r\n",
    "\r\n",
    "for i in range(0,len(Gene_not_found)):\r\n",
    "#for desease ,id_desease in GDAs_1[[\"Disease\",\"Disease_id\"]]:\r\n",
    "    if Gene_not_found[i] not in Gene_not_found_no_rep:#si no existe el nodo then\r\n",
    "        Gene_not_found_no_rep.append(Gene_not_found[i])\r\n",
    "Gene_not_found_no_rep[:10],len(Gene_not_found_no_rep)"
   ],
   "outputs": [
    {
     "output_type": "execute_result",
     "data": {
      "text/plain": [
       "(['SNORD116-1',\n",
       "  'CDKN2B-AS1',\n",
       "  'SPG37',\n",
       "  'SPG38',\n",
       "  'MIR300',\n",
       "  'MIR875',\n",
       "  'MIR744',\n",
       "  'MIR877',\n",
       "  'MIR665',\n",
       "  'MIR873'],\n",
       " 658)"
      ]
     },
     "metadata": {},
     "execution_count": 162
    }
   ],
   "metadata": {}
  },
  {
   "cell_type": "markdown",
   "source": [
    "Contrastar los genes en dorothea con genes que no encontrados"
   ],
   "metadata": {}
  },
  {
   "cell_type": "code",
   "execution_count": 161,
   "source": [
    "Gen_list[:10]"
   ],
   "outputs": [
    {
     "output_type": "execute_result",
     "data": {
      "text/plain": [
       "['ATF7IP',\n",
       " 'DYRK1A',\n",
       " 'TLK1',\n",
       " 'ZMYM4',\n",
       " 'ABCC1',\n",
       " 'ABCC6',\n",
       " 'ABHD5',\n",
       " 'ABT1',\n",
       " 'AC002066.1',\n",
       " 'AC002127.4']"
      ]
     },
     "metadata": {},
     "execution_count": 161
    }
   ],
   "metadata": {}
  },
  {
   "cell_type": "code",
   "execution_count": 163,
   "source": [
    "for gen in Gene_not_found_no_rep:\n",
    "    #print(\"CREATE(:GENE{name:'\"+gen+\"'})\")\n",
    "    graph.run(\"Create(a:Gene{name:$name})\",name=gen)"
   ],
   "outputs": [],
   "metadata": {}
  },
  {
   "cell_type": "code",
   "execution_count": 19,
   "source": [
    "e2s=pd.read_csv(r\"C:\\Users\\espin\\OneDrive\\Escritorio\\MCI\\SCRIPTS\\t2g2s 4-10-21.txt\", sep=\"\\t\", index_col=None)\n"
   ],
   "outputs": [],
   "metadata": {}
  },
  {
   "cell_type": "code",
   "execution_count": 21,
   "source": [
    "Gene_no_rep=[]\n",
    "\n",
    "for i in range(0,len(e2s[\"external_gene_name\"])):\n",
    "#for desease ,id_desease in GDAs_1[[\"Disease\",\"Disease_id\"]]:\n",
    "    if e2s[\"external_gene_name\"][i] not in Gene_no_rep:#si no existe el nodo then\n",
    "        Gene_no_rep.append(e2s[\"external_gene_name\"][i])\n",
    "Gene_no_rep[:10],len(Gene_no_rep)"
   ],
   "outputs": [
    {
     "output_type": "error",
     "ename": "NameError",
     "evalue": "name 'Gene_not_found_no_rep' is not defined",
     "traceback": [
      "\u001b[1;31m---------------------------------------------------------------------------\u001b[0m",
      "\u001b[1;31mNameError\u001b[0m                                 Traceback (most recent call last)",
      "\u001b[1;32m<ipython-input-21-b35ecd5abb5e>\u001b[0m in \u001b[0;36m<module>\u001b[1;34m\u001b[0m\n\u001b[0;32m      5\u001b[0m     \u001b[1;32mif\u001b[0m \u001b[0me2s\u001b[0m\u001b[1;33m[\u001b[0m\u001b[1;34m\"external_gene_name\"\u001b[0m\u001b[1;33m]\u001b[0m\u001b[1;33m[\u001b[0m\u001b[0mi\u001b[0m\u001b[1;33m]\u001b[0m \u001b[1;32mnot\u001b[0m \u001b[1;32min\u001b[0m \u001b[0mGene_no_rep\u001b[0m\u001b[1;33m:\u001b[0m\u001b[1;31m#si no existe el nodo then\u001b[0m\u001b[1;33m\u001b[0m\u001b[1;33m\u001b[0m\u001b[0m\n\u001b[0;32m      6\u001b[0m         \u001b[0mGene_no_rep\u001b[0m\u001b[1;33m.\u001b[0m\u001b[0mappend\u001b[0m\u001b[1;33m(\u001b[0m\u001b[0me2s\u001b[0m\u001b[1;33m[\u001b[0m\u001b[1;34m\"external_gene_name\"\u001b[0m\u001b[1;33m]\u001b[0m\u001b[1;33m[\u001b[0m\u001b[0mi\u001b[0m\u001b[1;33m]\u001b[0m\u001b[1;33m)\u001b[0m\u001b[1;33m\u001b[0m\u001b[1;33m\u001b[0m\u001b[0m\n\u001b[1;32m----> 7\u001b[1;33m \u001b[0mGene_not_found_no_rep\u001b[0m\u001b[1;33m[\u001b[0m\u001b[1;33m:\u001b[0m\u001b[1;36m10\u001b[0m\u001b[1;33m]\u001b[0m\u001b[1;33m,\u001b[0m\u001b[0mlen\u001b[0m\u001b[1;33m(\u001b[0m\u001b[0mGene_not_found_no_rep\u001b[0m\u001b[1;33m)\u001b[0m\u001b[1;33m\u001b[0m\u001b[1;33m\u001b[0m\u001b[0m\n\u001b[0m",
      "\u001b[1;31mNameError\u001b[0m: name 'Gene_not_found_no_rep' is not defined"
     ]
    }
   ],
   "metadata": {}
  },
  {
   "cell_type": "code",
   "execution_count": 22,
   "source": [
    "Gene_no_rep[:10],len(Gene_no_rep)"
   ],
   "outputs": [
    {
     "output_type": "execute_result",
     "data": {
      "text/plain": [
       "(['MT-TF',\n",
       "  'MT-RNR1',\n",
       "  'MT-TV',\n",
       "  'MT-RNR2',\n",
       "  'MT-TL1',\n",
       "  'MT-ND1',\n",
       "  'MT-TI',\n",
       "  'MT-TQ',\n",
       "  'MT-TM',\n",
       "  'MT-ND2'],\n",
       " 61102)"
      ]
     },
     "metadata": {},
     "execution_count": 22
    }
   ],
   "metadata": {}
  },
  {
   "cell_type": "code",
   "execution_count": 26,
   "source": [
    "Gene_not_found=[]\n",
    "for i in range(0,len(Gene_no_rep)):\n",
    "    t=Gene_no_rep[i]\n",
    "    b=graph.run(\"MATCH(b:Gene{name:$name1}) return b.name\",name1=t).evaluate()\n",
    "    if b!=Gene_no_rep[i]:\n",
    "        Gene_not_found.append(t)#en este caso incluye genes repetidos\n",
    "Gene_not_found[:10],len(Gene_not_found)"
   ],
   "outputs": [
    {
     "output_type": "execute_result",
     "data": {
      "text/plain": [
       "(['MT-TF',\n",
       "  'MT-RNR1',\n",
       "  'MT-TV',\n",
       "  'MT-RNR2',\n",
       "  'MT-TL1',\n",
       "  'MT-TI',\n",
       "  'MT-TQ',\n",
       "  'MT-TM',\n",
       "  'MT-TW',\n",
       "  'MT-TA'],\n",
       " 41393)"
      ]
     },
     "metadata": {},
     "execution_count": 26
    }
   ],
   "metadata": {}
  }
 ]
}