{
 "metadata": {
  "language_info": {
   "codemirror_mode": {
    "name": "ipython",
    "version": 3
   },
   "file_extension": ".py",
   "mimetype": "text/x-python",
   "name": "python",
   "nbconvert_exporter": "python",
   "pygments_lexer": "ipython3",
   "version": "3.9.1"
  },
  "orig_nbformat": 4,
  "kernelspec": {
   "name": "python3",
   "display_name": "Python 3.9.1 64-bit"
  },
  "interpreter": {
   "hash": "2c1d810cbdec53ec64946343f3c89d77305c51d6346f2ac7bc7d3a93293d3fd2"
  }
 },
 "nbformat": 4,
 "nbformat_minor": 2,
 "cells": [
  {
   "cell_type": "markdown",
   "source": [
    "Crear un py que ejecuta el codigo en este archivo en loop para todos los archivos de una carpeta"
   ],
   "metadata": {}
  },
  {
   "cell_type": "markdown",
   "source": [
    "Este archivo realiza el filtrado de datos y creacion de las redes contextualzadas con los nodos experimento y sus respectivas relaciones, tambien se incorporan relaciones de Genes expresados, el ADR de hace se filtrando los genes expresados y que estan relacionados al nodo (TFs) para filtrarlos y contrastarlo con los TF expresados en otro/s experimentos)."
   ],
   "metadata": {}
  },
  {
   "cell_type": "code",
   "execution_count": 15,
   "source": [
    "import pandas as pd\r\n",
    "import numpy as np \r\n",
    "from py2neo import Node,Relationship,Graph, database,NodeMatcher \r\n",
    "import sys\r\n",
    "\r\n",
    "#file=sys.argv[1]"
   ],
   "outputs": [],
   "metadata": {}
  },
  {
   "cell_type": "code",
   "execution_count": 103,
   "source": [
    "file1=pd.read_csv(\"abundance28.tsv\",sep=\"\\t\")\r\n",
    "file1.head(),file1.shape"
   ],
   "outputs": [
    {
     "output_type": "execute_result",
     "data": {
      "text/plain": [
       "(           target_id  length  eff_length  est_counts  tpm\n",
       " 0  ENST00000632684.1      12     2.60424         0.0  0.0\n",
       " 1  ENST00000434970.2       9     2.52391         0.0  0.0\n",
       " 2  ENST00000448914.1      13     2.62202         0.0  0.0\n",
       " 3  ENST00000415118.1       8     2.48058         0.0  0.0\n",
       " 4  ENST00000631435.1      12     2.60424         0.0  0.0,\n",
       " (187626, 5))"
      ]
     },
     "metadata": {},
     "execution_count": 103
    }
   ],
   "metadata": {}
  },
  {
   "cell_type": "markdown",
   "source": [
    "Con el archivo como Dataframe se continua el mapeo del trancrito sobre el simbols "
   ],
   "metadata": {}
  },
  {
   "cell_type": "code",
   "execution_count": 17,
   "source": [
    "simbols=pd.read_csv(\"t2g2s 4-10-21.txt\",index_col=None,delimiter=\"\\t\")\r\n",
    "simbols=simbols[['ensembl_transcript_id',\"external_gene_name\"]]\r\n",
    "simbols.head(),len(simbols),type(simbols)"
   ],
   "outputs": [
    {
     "output_type": "execute_result",
     "data": {
      "text/plain": [
       "(  ensembl_transcript_id external_gene_name\n",
       " 0       ENST00000387314              MT-TF\n",
       " 1       ENST00000389680            MT-RNR1\n",
       " 2       ENST00000387342              MT-TV\n",
       " 3       ENST00000387347            MT-RNR2\n",
       " 4       ENST00000386347             MT-TL1,\n",
       " 256183,\n",
       " pandas.core.frame.DataFrame)"
      ]
     },
     "metadata": {},
     "execution_count": 17
    }
   ],
   "metadata": {}
  },
  {
   "cell_type": "markdown",
   "source": [
    "Sortear alfabeticamente los transcritos en t2g2s para poder hacer busqueda binaria"
   ],
   "metadata": {}
  },
  {
   "cell_type": "code",
   "execution_count": 46,
   "source": [
    "#simbols.sort_values(by=\"ensembl_transcript_id\", inplace=True)"
   ],
   "outputs": [],
   "metadata": {}
  },
  {
   "cell_type": "code",
   "execution_count": 47,
   "source": [
    "simbols.head(),len(simbols),type(simbols)"
   ],
   "outputs": [
    {
     "output_type": "execute_result",
     "data": {
      "text/plain": [
       "(       ensembl_transcript_id external_gene_name\n",
       " 193441       ENST00000000233               ARF5\n",
       " 108899       ENST00000000412               M6PR\n",
       " 162936       ENST00000000442              ESRRA\n",
       " 83564        ENST00000001008              FKBP4\n",
       " 137415       ENST00000001146            CYP26B1,\n",
       " 256183,\n",
       " pandas.core.frame.DataFrame)"
      ]
     },
     "metadata": {},
     "execution_count": 47
    }
   ],
   "metadata": {}
  },
  {
   "cell_type": "code",
   "execution_count": 49,
   "source": [
    "simbols.reset_index(inplace=True)\r\n",
    "simbols[\"ensembl_transcript_id\"][0]"
   ],
   "outputs": [
    {
     "output_type": "execute_result",
     "data": {
      "text/plain": [
       "'ENST00000000233'"
      ]
     },
     "metadata": {},
     "execution_count": 49
    }
   ],
   "metadata": {}
  },
  {
   "cell_type": "code",
   "execution_count": 55,
   "source": [
    "ENST=file1[\"target_id\"]\r\n",
    "ENST.head(),len(ENST)"
   ],
   "outputs": [
    {
     "output_type": "execute_result",
     "data": {
      "text/plain": [
       "(0    ENST00000632684.1\n",
       " 1    ENST00000434970.2\n",
       " 2    ENST00000448914.1\n",
       " 3    ENST00000415118.1\n",
       " 4    ENST00000631435.1\n",
       " Name: target_id, dtype: object,\n",
       " 187626)"
      ]
     },
     "metadata": {},
     "execution_count": 55
    }
   ],
   "metadata": {}
  },
  {
   "cell_type": "markdown",
   "source": [
    "Busqueda binaria\r\n"
   ],
   "metadata": {}
  },
  {
   "cell_type": "code",
   "execution_count": 37,
   "source": [
    "def binary_search(sequence,item):\r\n",
    "    begin_index=0\r\n",
    "    end_index=len(sequence)-1\r\n",
    "    while begin_index<=end_index:\r\n",
    "        mid_point= begin_index +(end_index-begin_index)//2\r\n",
    "        mid_point_value=sequence[mid_point]\r\n",
    "        if mid_point_value==item:\r\n",
    "            return (mid_point)\r\n",
    "\r\n",
    "        elif item< mid_point_value:\r\n",
    "            end_index=mid_point-1\r\n",
    "\r\n",
    "        else:\r\n",
    "            begin_index=mid_point+1\r\n",
    "    return (None)"
   ],
   "outputs": [],
   "metadata": {}
  },
  {
   "cell_type": "code",
   "execution_count": 51,
   "source": [
    "tar=\"ENST00000387314\"\r\n",
    "print(binary_search(simbols['ensembl_transcript_id'],tar))"
   ],
   "outputs": [
    {
     "output_type": "stream",
     "name": "stdout",
     "text": [
      "29671\n"
     ]
    }
   ],
   "metadata": {}
  },
  {
   "cell_type": "code",
   "execution_count": 53,
   "source": [
    "ENST_adj_simbol_list=[]\r\n",
    "for i in range(0,len(ENST)):\r\n",
    "    s=ENST[i]\r\n",
    "    #print(s[:-2])\r\n",
    "    res=binary_search(simbols['ensembl_transcript_id'],s[:-2])\r\n",
    "    if res!=None:\r\n",
    "        ENST_adj_simbol_list.append(simbols[\"external_gene_name\"][res])\r\n",
    "    else:\r\n",
    "        ENST_adj_simbol_list.append(None)\r\n",
    "ENST_adj_simbol_list[:5]"
   ],
   "outputs": [
    {
     "output_type": "execute_result",
     "data": {
      "text/plain": [
       "['TRBD1', 'TRDD2', 'TRDD3', 'TRDD1', 'TRBD1']"
      ]
     },
     "metadata": {},
     "execution_count": 53
    }
   ],
   "metadata": {}
  },
  {
   "cell_type": "markdown",
   "source": [
    "Check point: ver que los ensablajes y su respectivo simbol corresponden y estan ordenados."
   ],
   "metadata": {}
  },
  {
   "cell_type": "code",
   "execution_count": 78,
   "source": [
    "q=len(ENST_adj_simbol_list)\r\n",
    "s=ENST_adj_simbol_list.count(None)\r\n",
    "p=round(s/q*100,3)\r\n",
    "q,s,str(p)+\"%\""
   ],
   "outputs": [
    {
     "output_type": "execute_result",
     "data": {
      "text/plain": [
       "(187626, 5637, '3.004%')"
      ]
     },
     "metadata": {},
     "execution_count": 78
    }
   ],
   "metadata": {}
  },
  {
   "cell_type": "code",
   "execution_count": 64,
   "source": [
    "df_None= np.where(np.array(ENST_adj_simbol_list) == None)[0]\r\n",
    "df_None[:15]"
   ],
   "outputs": [
    {
     "output_type": "execute_result",
     "data": {
      "text/plain": [
       "array([ 266,  267,  287,  359,  379,  924,  968, 1009, 1137, 1162, 1199,\n",
       "       1239, 1281, 1294, 1354], dtype=int64)"
      ]
     },
     "metadata": {},
     "execution_count": 64
    }
   ],
   "metadata": {}
  },
  {
   "cell_type": "code",
   "execution_count": 70,
   "source": [
    "a=ENST.loc[287]\r\n",
    "if a[:-2] in simbols['ensembl_transcript_id']:\r\n",
    "    print(\"Yes\")\r\n",
    "else:\r\n",
    "    print(\"No\")"
   ],
   "outputs": [
    {
     "output_type": "stream",
     "name": "stdout",
     "text": [
      "No\n"
     ]
    }
   ],
   "metadata": {}
  },
  {
   "cell_type": "markdown",
   "source": [
    "Checkpint, no se encuentran el 3% de los transcritos de kallisto en la lista de ENST para esta version\r\n",
    "\r\n",
    "indicar version index de kallisto:\r\n",
    "\r\n",
    "indicar version ENST sacada desde R:"
   ],
   "metadata": {}
  },
  {
   "cell_type": "code",
   "execution_count": 104,
   "source": [
    "file1[\"Syb\"]=ENST_adj_simbol_list\r\n",
    "file1.head(), file1.shape"
   ],
   "outputs": [
    {
     "output_type": "execute_result",
     "data": {
      "text/plain": [
       "(           target_id  length  eff_length  est_counts  tpm    Syb\n",
       " 0  ENST00000632684.1      12     2.60424         0.0  0.0  TRBD1\n",
       " 1  ENST00000434970.2       9     2.52391         0.0  0.0  TRDD2\n",
       " 2  ENST00000448914.1      13     2.62202         0.0  0.0  TRDD3\n",
       " 3  ENST00000415118.1       8     2.48058         0.0  0.0  TRDD1\n",
       " 4  ENST00000631435.1      12     2.60424         0.0  0.0  TRBD1,\n",
       " (187626, 6))"
      ]
     },
     "metadata": {},
     "execution_count": 104
    }
   ],
   "metadata": {}
  },
  {
   "cell_type": "markdown",
   "source": [
    "Agrupar los genes con el mismo simbol sumando los valores de conteo...\n"
   ],
   "metadata": {}
  },
  {
   "cell_type": "code",
   "execution_count": 94,
   "source": [
    "Conteo_gen=file1.groupby(\"Syb\",as_index=False).sum()# simbols y el resto son columnas numericas"
   ],
   "outputs": [],
   "metadata": {}
  },
  {
   "cell_type": "code",
   "execution_count": 95,
   "source": [
    "Conteo_gen.head(),Conteo_gen.shape"
   ],
   "outputs": [
    {
     "output_type": "execute_result",
     "data": {
      "text/plain": [
       "(       Syb  length   eff_length  est_counts         tpm\n",
       " 0  5S_rRNA     867     36.79662     0.00000    0.000000\n",
       " 1     A1BG    7549   6554.00000    55.14663   19.400249\n",
       " 2     A1CF   46436  44446.00000     2.00000    0.034660\n",
       " 3      A2M    6982   4594.00000   479.72632  241.094182\n",
       " 4    A2ML1   10614   9022.00000     3.09675    0.270248,\n",
       " (36302, 5))"
      ]
     },
     "metadata": {},
     "execution_count": 95
    }
   ],
   "metadata": {}
  },
  {
   "cell_type": "markdown",
   "source": [
    "se crea al nodo experimento con sus respectivas propiedades, los nodos clasificadores de este experimento y sus relaciones"
   ],
   "metadata": {}
  },
  {
   "cell_type": "code",
   "execution_count": 98,
   "source": [
    "Conteo_gen[Conteo_gen[\"est_counts\"]>0].shape,Conteo_gen[Conteo_gen[\"est_counts\"]>10].shape"
   ],
   "outputs": [
    {
     "output_type": "execute_result",
     "data": {
      "text/plain": [
       "((19008, 5), (13260, 5))"
      ]
     },
     "metadata": {},
     "execution_count": 98
    }
   ],
   "metadata": {}
  },
  {
   "cell_type": "code",
   "execution_count": 100,
   "source": [
    "graph=Graph()# or Graph('bolt://neo4j@localhost:7687')"
   ],
   "outputs": [],
   "metadata": {}
  },
  {
   "cell_type": "code",
   "execution_count": 132,
   "source": [
    "file1_0=Conteo_gen[Conteo_gen[\"est_counts\"]>10]\r\n",
    "file1_0.head(),type(file1_0)"
   ],
   "outputs": [
    {
     "output_type": "execute_result",
     "data": {
      "text/plain": [
       "(       Syb  length  eff_length  est_counts         tpm\n",
       " 1     A1BG    7549      6554.0    55.14663   19.400249\n",
       " 3      A2M    6982      4594.0   479.72632  241.094182\n",
       " 7   A4GALT    9985      8592.0   293.39200   30.360534\n",
       " 9     AAAS   19227     15247.0   111.00006   12.079000\n",
       " 10    AACS   19407     17417.0    18.54619    1.199477,\n",
       " pandas.core.frame.DataFrame)"
      ]
     },
     "metadata": {},
     "execution_count": 132
    }
   ],
   "metadata": {}
  },
  {
   "cell_type": "code",
   "execution_count": 134,
   "source": [
    "file1_0.head(15)\r\n"
   ],
   "outputs": [
    {
     "output_type": "execute_result",
     "data": {
      "text/plain": [
       "       Syb  length  eff_length  est_counts         tpm\n",
       "1     A1BG    7549      6554.0   55.146630   19.400249\n",
       "3      A2M    6982      4594.0  479.726320  241.094182\n",
       "7   A4GALT    9985      8592.0  293.392000   30.360534\n",
       "9     AAAS   19227     15247.0  111.000060   12.079000\n",
       "10    AACS   19407     17417.0   18.546190    1.199477\n",
       "17   AADAT   11668     10076.0   17.000000    1.596668\n",
       "18   AAGAB    9786      8393.0  369.000000   26.817700\n",
       "19    AAK1   34335     31748.0  225.623440    7.801211\n",
       "20   AAMDC    6197      4008.0   62.111506   27.504305\n",
       "21    AAMP   13684     11694.0  671.000290   71.927232\n",
       "22   AANAT    4192      3396.0   10.000010    1.638229\n",
       "23    AAR2    6585      5988.0  309.000000   20.884330\n",
       "25   AARS1    3971      2777.0   30.975800    7.570373\n",
       "27   AARS2    4589      4191.0   29.039700    1.242250\n",
       "28  AARSD1   12840      9059.0  161.702560   36.695948"
      ],
      "text/html": [
       "<div>\n",
       "<style scoped>\n",
       "    .dataframe tbody tr th:only-of-type {\n",
       "        vertical-align: middle;\n",
       "    }\n",
       "\n",
       "    .dataframe tbody tr th {\n",
       "        vertical-align: top;\n",
       "    }\n",
       "\n",
       "    .dataframe thead th {\n",
       "        text-align: right;\n",
       "    }\n",
       "</style>\n",
       "<table border=\"1\" class=\"dataframe\">\n",
       "  <thead>\n",
       "    <tr style=\"text-align: right;\">\n",
       "      <th></th>\n",
       "      <th>Syb</th>\n",
       "      <th>length</th>\n",
       "      <th>eff_length</th>\n",
       "      <th>est_counts</th>\n",
       "      <th>tpm</th>\n",
       "    </tr>\n",
       "  </thead>\n",
       "  <tbody>\n",
       "    <tr>\n",
       "      <th>1</th>\n",
       "      <td>A1BG</td>\n",
       "      <td>7549</td>\n",
       "      <td>6554.0</td>\n",
       "      <td>55.146630</td>\n",
       "      <td>19.400249</td>\n",
       "    </tr>\n",
       "    <tr>\n",
       "      <th>3</th>\n",
       "      <td>A2M</td>\n",
       "      <td>6982</td>\n",
       "      <td>4594.0</td>\n",
       "      <td>479.726320</td>\n",
       "      <td>241.094182</td>\n",
       "    </tr>\n",
       "    <tr>\n",
       "      <th>7</th>\n",
       "      <td>A4GALT</td>\n",
       "      <td>9985</td>\n",
       "      <td>8592.0</td>\n",
       "      <td>293.392000</td>\n",
       "      <td>30.360534</td>\n",
       "    </tr>\n",
       "    <tr>\n",
       "      <th>9</th>\n",
       "      <td>AAAS</td>\n",
       "      <td>19227</td>\n",
       "      <td>15247.0</td>\n",
       "      <td>111.000060</td>\n",
       "      <td>12.079000</td>\n",
       "    </tr>\n",
       "    <tr>\n",
       "      <th>10</th>\n",
       "      <td>AACS</td>\n",
       "      <td>19407</td>\n",
       "      <td>17417.0</td>\n",
       "      <td>18.546190</td>\n",
       "      <td>1.199477</td>\n",
       "    </tr>\n",
       "    <tr>\n",
       "      <th>17</th>\n",
       "      <td>AADAT</td>\n",
       "      <td>11668</td>\n",
       "      <td>10076.0</td>\n",
       "      <td>17.000000</td>\n",
       "      <td>1.596668</td>\n",
       "    </tr>\n",
       "    <tr>\n",
       "      <th>18</th>\n",
       "      <td>AAGAB</td>\n",
       "      <td>9786</td>\n",
       "      <td>8393.0</td>\n",
       "      <td>369.000000</td>\n",
       "      <td>26.817700</td>\n",
       "    </tr>\n",
       "    <tr>\n",
       "      <th>19</th>\n",
       "      <td>AAK1</td>\n",
       "      <td>34335</td>\n",
       "      <td>31748.0</td>\n",
       "      <td>225.623440</td>\n",
       "      <td>7.801211</td>\n",
       "    </tr>\n",
       "    <tr>\n",
       "      <th>20</th>\n",
       "      <td>AAMDC</td>\n",
       "      <td>6197</td>\n",
       "      <td>4008.0</td>\n",
       "      <td>62.111506</td>\n",
       "      <td>27.504305</td>\n",
       "    </tr>\n",
       "    <tr>\n",
       "      <th>21</th>\n",
       "      <td>AAMP</td>\n",
       "      <td>13684</td>\n",
       "      <td>11694.0</td>\n",
       "      <td>671.000290</td>\n",
       "      <td>71.927232</td>\n",
       "    </tr>\n",
       "    <tr>\n",
       "      <th>22</th>\n",
       "      <td>AANAT</td>\n",
       "      <td>4192</td>\n",
       "      <td>3396.0</td>\n",
       "      <td>10.000010</td>\n",
       "      <td>1.638229</td>\n",
       "    </tr>\n",
       "    <tr>\n",
       "      <th>23</th>\n",
       "      <td>AAR2</td>\n",
       "      <td>6585</td>\n",
       "      <td>5988.0</td>\n",
       "      <td>309.000000</td>\n",
       "      <td>20.884330</td>\n",
       "    </tr>\n",
       "    <tr>\n",
       "      <th>25</th>\n",
       "      <td>AARS1</td>\n",
       "      <td>3971</td>\n",
       "      <td>2777.0</td>\n",
       "      <td>30.975800</td>\n",
       "      <td>7.570373</td>\n",
       "    </tr>\n",
       "    <tr>\n",
       "      <th>27</th>\n",
       "      <td>AARS2</td>\n",
       "      <td>4589</td>\n",
       "      <td>4191.0</td>\n",
       "      <td>29.039700</td>\n",
       "      <td>1.242250</td>\n",
       "    </tr>\n",
       "    <tr>\n",
       "      <th>28</th>\n",
       "      <td>AARSD1</td>\n",
       "      <td>12840</td>\n",
       "      <td>9059.0</td>\n",
       "      <td>161.702560</td>\n",
       "      <td>36.695948</td>\n",
       "    </tr>\n",
       "  </tbody>\n",
       "</table>\n",
       "</div>"
      ]
     },
     "metadata": {},
     "execution_count": 134
    }
   ],
   "metadata": {}
  },
  {
   "cell_type": "code",
   "execution_count": 133,
   "source": [
    " genes_in_db=[]\r\n",
    " for i in file1_0[\"Syb\"]:\r\n",
    "    b=graph.run(\"MATCH(b:Gene{name:$name1}) return b.name\",name1=i).evaluate()\r\n",
    "    if b!=i:\r\n",
    "        genes_in_db.append(i)#en este caso incluye genes repetidos\r\n",
    "genes_in_db[:10],len(genes_in_db)"
   ],
   "outputs": [
    {
     "output_type": "execute_result",
     "data": {
      "text/plain": [
       "(['ABCF2-H2BE1',\n",
       "  'ABRAXAS2',\n",
       "  'AC002996.1',\n",
       "  'AC004057.1',\n",
       "  'AC004696.1',\n",
       "  'AC004832.3',\n",
       "  'AC004890.2',\n",
       "  'AC004922.1',\n",
       "  'AC004980.1',\n",
       "  'AC004980.5'],\n",
       " 845)"
      ]
     },
     "metadata": {},
     "execution_count": 133
    }
   ],
   "metadata": {}
  },
  {
   "cell_type": "code",
   "execution_count": null,
   "source": [
    "for i in range(0,len(Conteo_gen[\"est_counts\"]):\r\n",
    "    "
   ],
   "outputs": [],
   "metadata": {}
  },
  {
   "cell_type": "code",
   "execution_count": null,
   "source": [
    "\r\n",
    "???graph.run(\"MERGE(a:Experiment{name:$code,condition:$condition,comentarios:$com})\",code=\"GSM4462413\"condition=\"Healthy\", com=\"lo que se quiera agregar de los genes que no se incorporaron \")#nombre del experimento, tipo de muestra(control o sano)"
   ],
   "outputs": [],
   "metadata": {}
  },
  {
   "cell_type": "code",
   "execution_count": null,
   "source": [
    "for i in range(0,5):\r\n",
    "        #graph.run(\"MERGE(a:Experiment{code:$code,condition:$condition}) MATCH(b:Gene{name:$simb} CREATE (a)-[:RES{count:$count}]->(b) \",code=\"GSM4462413\",condition=\"Healthy\",simb=res[\"simb\"][i], count=res[\"count\"][i])\r\n",
    "    else:\r\n",
    "        print(i)"
   ],
   "outputs": [],
   "metadata": {}
  },
  {
   "cell_type": "markdown",
   "source": [
    "Se realiza la reacion de relaciones entre el nodo experimento con sus respectivos genes"
   ],
   "metadata": {}
  },
  {
   "cell_type": "code",
   "execution_count": null,
   "source": [
    "graph.run(\"MERGE(a:Experiment{name:$code})\",code=\"GSM4462413\").evaluate()"
   ],
   "outputs": [],
   "metadata": {}
  },
  {
   "cell_type": "code",
   "execution_count": null,
   "source": [
    "graph.run(\"MERGE(a:Experiment{name:$code,condition:$condition,comentarios:$com})\",code=\"GSM4462413\"condition=\"Healthy\", com=\"lo que se quiera agregar de los genes que no se incorporaron \")"
   ],
   "outputs": [],
   "metadata": {}
  },
  {
   "cell_type": "code",
   "execution_count": null,
   "source": [
    "for i in range(0,len(res)):\r\n",
    "    if res[\"healthy\"][i]>10:\r\n",
    "        print(res[\"Syb\"][i])\r\n",
    "        #graph.run(\"MERGE(a:EXPERIMENT{code:$code,condition:$condition}) MATCH(b:TF{name:$tf} CREATE (a)-[:DEG]->(b) \",code=\"GSM4462413\",condition=\"Healthy\", tf=res[\"Syb\"][i])\r\n",
    "    else:\r\n",
    "        print(i)"
   ],
   "outputs": [],
   "metadata": {}
  }
 ]
}